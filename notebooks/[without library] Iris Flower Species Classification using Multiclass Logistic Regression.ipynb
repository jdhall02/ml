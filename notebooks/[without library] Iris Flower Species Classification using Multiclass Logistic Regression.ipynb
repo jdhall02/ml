{
 "cells": [
  {
   "cell_type": "markdown",
   "metadata": {},
   "source": [
    "# [without library] <font color=\"orange\">Iris Flower Species Classification using Multiclass Logistic Regression</font>"
   ]
  },
  {
   "cell_type": "markdown",
   "metadata": {},
   "source": [
    "### Based on - <font color=blue>Stanford CS231n</font> - Softmax classifier - <font color=magenta>Andrej Karpathy</font>, and Cross Entropy Loss Derivative - Roei Bahumi"
   ]
  },
  {
   "cell_type": "markdown",
   "metadata": {},
   "source": [
    "<img src=\"../assets/images/iris-multi-logreg/softmax_iris.jpg\">"
   ]
  },
  {
   "cell_type": "markdown",
   "metadata": {},
   "source": [
    "## Introduction"
   ]
  },
  {
   "cell_type": "markdown",
   "metadata": {},
   "source": [
    "This notebook implements <font color=blue>Multinomial Logistic Regression</font>. It performs <font color=blue>multi-class classification</font> on Iris Flower Species dataset consisting of four attributes and belonging to three classes. There are 300 data points that we divide into training and test data. The prediction accuracy is <font color=blue>94-100%</font>.\n",
    "\n",
    "Resources:\n",
    "- [<font color=blue>Stanford CS231n</font> - Softmax classifier - <font color=magenta>Andrej Karpathy</font>](https://cs231n.github.io/linear-classify/#softmax)\n",
    "- [Cross Entropy Loss Derivative - Roei Bahumi](http://machinelearningmechanic.com/assets/pdfs/cross_entropy_loss_derivative.pdf)\n",
    "- [Generative and Discriminative Classifiers : Naive Bayes and Logistic Regression - <font color=magenta>Tom Mitchell</font>](https://www.cs.cmu.edu/~tom/mlbook/NBayesLogReg.pdf)\n",
    "- [2020 - <font color=blue>Speech and Language Processing</font> - 3rd EDITION - An Introduction to Natural Language Processing - Computational Linguistics and Speech Recognition - Jurafsky - Martin](https://web.stanford.edu/~jurafsky/slp3/5.pdf)\n",
    "\n",
    "Towards the end, I have included a <font color=blue>sidebar</font> on the <font color=magenta>Multinomial Logistic Regression</font>. "
   ]
  },
  {
   "cell_type": "markdown",
   "metadata": {},
   "source": [
    "## Taxonomy and Notes"
   ]
  },
  {
   "cell_type": "markdown",
   "metadata": {},
   "source": [
    "Logistic Regression is a <font color=blue>probabilistic</font> classifier. But, it does not model the complete distribution P(X, Y). It is only interested in discriminating among classes. It does that by __computing P(Y \\| X) directly__ from the training data. Hence, it is a <font color=blue>probabilistic-discriminative</font> classifier.\n",
    "\n",
    "__Multinomial Logistic Regression__ is a composition of <font color=blue>K linear functions</font> (K is the number of classes) and the <font color=magenta>softmax</font> function. Softmax is a <font color=blue>generalization of the logistic function</font> to multiple dimensions. It <font color=blue>transforms an N-dimensional feature space to a K-dimensional class space</font>. In the case of Iris Flower Species, the N=5 features (bias + sepal/petal length/width) are mapped to K=3 classes. The weight matrix is (N x K), where each column is a <font color=blue>linear operator</font> w applied on feature vector x.\n",
    "\n",
    "It is <font color=blue>parametric</font> (weights and bias are the parameters). Binomial Logistic Regression is <font color=blue>binary</font>. The model can be modified to use <font color=magenta>softmax</font> instead of sigmoid, and it becomes <font color=blue>Multiclass</font> Logistic Regression.\n",
    "\n",
    "In summary, Multinomial Logistic Regression is:\n",
    "- Probabilistic\n",
    "- Discriminative\n",
    "- Binary and Multiclass\n",
    "- Linear\n",
    "- Parametric"
   ]
  },
  {
   "cell_type": "markdown",
   "metadata": {},
   "source": [
    "<img src=\"../assets/images/log_reg_multi_mmap.png\">"
   ]
  },
  {
   "cell_type": "markdown",
   "metadata": {},
   "source": [
    "## Imports"
   ]
  },
  {
   "cell_type": "code",
   "execution_count": 1,
   "metadata": {},
   "outputs": [],
   "source": [
    "import numpy as np\n",
    "import pandas as pd #input\n",
    "from numpy.random import rand, normal, standard_normal\n",
    "from numpy import dot, exp\n",
    "from numpy import mean, std #mean and standard deviation for gaussian probabilities\n",
    "from scipy.stats import norm #gaussian probabilities\n",
    "from math import log # to calculate posterior probability\n",
    "import matplotlib.pyplot as plt\n",
    "import seaborn as sns"
   ]
  },
  {
   "cell_type": "markdown",
   "metadata": {},
   "source": [
    "## Data"
   ]
  },
  {
   "cell_type": "markdown",
   "metadata": {},
   "source": [
    "### Data Configuration (1 of 2)"
   ]
  },
  {
   "cell_type": "markdown",
   "metadata": {},
   "source": [
    "#### Iris Flower Species"
   ]
  },
  {
   "cell_type": "code",
   "execution_count": 1,
   "metadata": {},
   "outputs": [],
   "source": [
    "f_data = '../input/iris-species/Iris.csv'\n",
    "f_cols = ['SepalLengthCm',  'SepalWidthCm',  'PetalLengthCm',  'PetalWidthCm', 'Species']\n",
    "class_colname = 'Species'"
   ]
  },
  {
   "cell_type": "markdown",
   "metadata": {},
   "source": [
    "### Read"
   ]
  },
  {
   "cell_type": "markdown",
   "metadata": {},
   "source": [
    "#### read the csv file"
   ]
  },
  {
   "cell_type": "code",
   "execution_count": 3,
   "metadata": {},
   "outputs": [],
   "source": [
    "#read the csv file\n",
    "df = pd.read_csv(f_data)"
   ]
  },
  {
   "cell_type": "markdown",
   "metadata": {},
   "source": [
    "#### drop unwanted columns"
   ]
  },
  {
   "cell_type": "code",
   "execution_count": 4,
   "metadata": {},
   "outputs": [],
   "source": [
    "#drop unwanted columns\n",
    "drop_cols = list(set(df.columns) - set(f_cols))\n",
    "df = df.drop(drop_cols, axis = 1)"
   ]
  },
  {
   "cell_type": "markdown",
   "metadata": {},
   "source": [
    "#### rename last column that supposedly has a class/label"
   ]
  },
  {
   "cell_type": "code",
   "execution_count": 5,
   "metadata": {},
   "outputs": [],
   "source": [
    "#rename the last column to 'class'\n",
    "cols = df.columns.to_list()\n",
    "cols[len(cols)-1] = class_colname\n",
    "df.columns = cols"
   ]
  },
  {
   "cell_type": "markdown",
   "metadata": {},
   "source": [
    "#### sanity check for data getting loaded"
   ]
  },
  {
   "cell_type": "code",
   "execution_count": 6,
   "metadata": {},
   "outputs": [
    {
     "data": {
      "text/html": [
       "<div>\n",
       "<style scoped>\n",
       "    .dataframe tbody tr th:only-of-type {\n",
       "        vertical-align: middle;\n",
       "    }\n",
       "\n",
       "    .dataframe tbody tr th {\n",
       "        vertical-align: top;\n",
       "    }\n",
       "\n",
       "    .dataframe thead th {\n",
       "        text-align: right;\n",
       "    }\n",
       "</style>\n",
       "<table border=\"1\" class=\"dataframe\">\n",
       "  <thead>\n",
       "    <tr style=\"text-align: right;\">\n",
       "      <th></th>\n",
       "      <th>SepalLengthCm</th>\n",
       "      <th>SepalWidthCm</th>\n",
       "      <th>PetalLengthCm</th>\n",
       "      <th>PetalWidthCm</th>\n",
       "      <th>Species</th>\n",
       "    </tr>\n",
       "  </thead>\n",
       "  <tbody>\n",
       "    <tr>\n",
       "      <th>75</th>\n",
       "      <td>6.6</td>\n",
       "      <td>3.0</td>\n",
       "      <td>4.4</td>\n",
       "      <td>1.4</td>\n",
       "      <td>Iris-versicolor</td>\n",
       "    </tr>\n",
       "    <tr>\n",
       "      <th>132</th>\n",
       "      <td>6.4</td>\n",
       "      <td>2.8</td>\n",
       "      <td>5.6</td>\n",
       "      <td>2.2</td>\n",
       "      <td>Iris-virginica</td>\n",
       "    </tr>\n",
       "    <tr>\n",
       "      <th>89</th>\n",
       "      <td>5.5</td>\n",
       "      <td>2.5</td>\n",
       "      <td>4.0</td>\n",
       "      <td>1.3</td>\n",
       "      <td>Iris-versicolor</td>\n",
       "    </tr>\n",
       "    <tr>\n",
       "      <th>35</th>\n",
       "      <td>5.0</td>\n",
       "      <td>3.2</td>\n",
       "      <td>1.2</td>\n",
       "      <td>0.2</td>\n",
       "      <td>Iris-setosa</td>\n",
       "    </tr>\n",
       "    <tr>\n",
       "      <th>103</th>\n",
       "      <td>6.3</td>\n",
       "      <td>2.9</td>\n",
       "      <td>5.6</td>\n",
       "      <td>1.8</td>\n",
       "      <td>Iris-virginica</td>\n",
       "    </tr>\n",
       "  </tbody>\n",
       "</table>\n",
       "</div>"
      ],
      "text/plain": [
       "     SepalLengthCm  SepalWidthCm  PetalLengthCm  PetalWidthCm          Species\n",
       "75             6.6           3.0            4.4           1.4  Iris-versicolor\n",
       "132            6.4           2.8            5.6           2.2   Iris-virginica\n",
       "89             5.5           2.5            4.0           1.3  Iris-versicolor\n",
       "35             5.0           3.2            1.2           0.2      Iris-setosa\n",
       "103            6.3           2.9            5.6           1.8   Iris-virginica"
      ]
     },
     "execution_count": 6,
     "metadata": {},
     "output_type": "execute_result"
    }
   ],
   "source": [
    "df.sample(5)"
   ]
  },
  {
   "cell_type": "markdown",
   "metadata": {},
   "source": [
    "### Data Preprocessing"
   ]
  },
  {
   "cell_type": "markdown",
   "metadata": {},
   "source": [
    "#### Helper Functions"
   ]
  },
  {
   "cell_type": "markdown",
   "metadata": {},
   "source": [
    "##### visualize"
   ]
  },
  {
   "cell_type": "code",
   "execution_count": 7,
   "metadata": {},
   "outputs": [],
   "source": [
    "def plot_features_violin(data):\n",
    "    plt.figure(figsize=(15,10))\n",
    "    plt.subplot(2,2,1)\n",
    "    sns.violinplot(data=data, x='Species',y='PetalLengthCm')\n",
    "    plt.subplot(2,2,2)\n",
    "    sns.violinplot(data=data, x='Species',y='PetalWidthCm')\n",
    "    plt.subplot(2,2,3)\n",
    "    sns.violinplot(data=data, x='Species',y='SepalLengthCm')\n",
    "    plt.subplot(2,2,4)\n",
    "    sns.violinplot(data=data, x='Species',y='SepalWidthCm')"
   ]
  },
  {
   "cell_type": "markdown",
   "metadata": {},
   "source": [
    "##### normalize"
   ]
  },
  {
   "cell_type": "code",
   "execution_count": 8,
   "metadata": {},
   "outputs": [],
   "source": [
    "'''normalize the features\n",
    "    \n",
    "    return:\n",
    "        copy of the passed in (dataframe), but now with normalized values\n",
    "        \n",
    "    parameters:\n",
    "        df: (dataframe) to normalize\n",
    "        cols: (list) of columns to normalize\n",
    "'''\n",
    "def normalize(df, cols):\n",
    "    df2 = df.copy(deep = True)\n",
    "    for col in cols:\n",
    "        mu = df2[col].mean()\n",
    "        sigma = df2[col].std()\n",
    "        df2[col] = (df2[col] - mu) / sigma\n",
    "        \n",
    "    return df2"
   ]
  },
  {
   "cell_type": "markdown",
   "metadata": {},
   "source": [
    "#### Normalize"
   ]
  },
  {
   "cell_type": "code",
   "execution_count": 9,
   "metadata": {},
   "outputs": [
    {
     "name": "stdout",
     "output_type": "stream",
     "text": [
      "Before normalization:\n",
      "\n"
     ]
    },
    {
     "data": {
      "image/png": "[encoded data removed]",
      "text/plain": [
       "<Figure size 1080x720 with 4 Axes>"
      ]
     },
     "metadata": {
      "needs_background": "light"
     },
     "output_type": "display_data"
    }
   ],
   "source": [
    "print('Before normalization:\\n')\n",
    "plot_features_violin(df)"
   ]
  },
  {
   "cell_type": "code",
   "execution_count": 10,
   "metadata": {},
   "outputs": [
    {
     "name": "stdout",
     "output_type": "stream",
     "text": [
      "\n",
      "\n",
      "After normalization: The relative distribution is still maintained, though the range of values is around 0. (see y-axis markers)\n",
      "\n"
     ]
    },
    {
     "data": {
      "image/png": "[encoded data removed]",
      "text/plain": [
       "<Figure size 1080x720 with 4 Axes>"
      ]
     },
     "metadata": {
      "needs_background": "light"
     },
     "output_type": "display_data"
    }
   ],
   "source": [
    "print('\\n\\nAfter normalization: The relative distribution is still maintained,\\\n",
    " though the range of values is around 0. (see y-axis markers)\\n')\n",
    "df_norm = normalize(df, f_cols[:-1])\n",
    "plot_features_violin(df_norm)"
   ]
  },
  {
   "cell_type": "markdown",
   "metadata": {},
   "source": [
    "### Data Configuration (2 of 2)"
   ]
  },
  {
   "cell_type": "markdown",
   "metadata": {},
   "source": [
    "#### M: number of data points; N: number of features; K: number of classes"
   ]
  },
  {
   "cell_type": "code",
   "execution_count": 11,
   "metadata": {},
   "outputs": [
    {
     "data": {
      "text/plain": [
       "(150, 5, 3)"
      ]
     },
     "execution_count": 11,
     "metadata": {},
     "output_type": "execute_result"
    }
   ],
   "source": [
    "#number of data points, number of attributes\n",
    "M, N = df_norm.shape[0], df_norm.shape[1]\n",
    "#number of classes\n",
    "K = len(df_norm[class_colname].unique())\n",
    "M, N, K"
   ]
  },
  {
   "cell_type": "markdown",
   "metadata": {},
   "source": [
    "#### Class Names"
   ]
  },
  {
   "cell_type": "code",
   "execution_count": 12,
   "metadata": {},
   "outputs": [
    {
     "data": {
      "text/plain": [
       "array(['Iris-setosa', 'Iris-versicolor', 'Iris-virginica'], dtype=object)"
      ]
     },
     "execution_count": 12,
     "metadata": {},
     "output_type": "execute_result"
    }
   ],
   "source": [
    "C = df_norm[class_colname].unique()\n",
    "C"
   ]
  },
  {
   "cell_type": "markdown",
   "metadata": {},
   "source": [
    "#### X_mn, Y"
   ]
  },
  {
   "cell_type": "markdown",
   "metadata": {},
   "source": [
    "##### X_mn\n",
    "The data points matrix X_mn is a <font color=blue>M x N</font> matrix, M being the number of data points, N being the number of attributes"
   ]
  },
  {
   "cell_type": "code",
   "execution_count": 13,
   "metadata": {},
   "outputs": [
    {
     "data": {
      "text/plain": [
       "(150, 5)"
      ]
     },
     "execution_count": 13,
     "metadata": {},
     "output_type": "execute_result"
    }
   ],
   "source": [
    "#X_mn: first column is the first input '1' for bias\n",
    "X_mn = np.ones((M, N), dtype=float)\n",
    "X_mn[:, 1:] = df_norm.loc[:, df_norm.columns != class_colname].to_numpy()\n",
    "X_mn.shape"
   ]
  },
  {
   "cell_type": "markdown",
   "metadata": {},
   "source": [
    "##### Y"
   ]
  },
  {
   "cell_type": "code",
   "execution_count": 14,
   "metadata": {},
   "outputs": [
    {
     "data": {
      "text/plain": [
       "(150,)"
      ]
     },
     "execution_count": 14,
     "metadata": {},
     "output_type": "execute_result"
    }
   ],
   "source": [
    "#Y: class column\n",
    "Y = np.array(M, dtype=float)\n",
    "#encode class name to offset in C: array of class names\n",
    "Y = [np.where(C == c_name)[0][0] for c_name in (df_norm.loc[:, df_norm.columns == class_colname].to_numpy())]\n",
    "Y = np.array(Y, dtype=int)\n",
    "Y.shape"
   ]
  },
  {
   "cell_type": "markdown",
   "metadata": {},
   "source": [
    "## Model"
   ]
  },
  {
   "cell_type": "markdown",
   "metadata": {},
   "source": [
    "### Model Configuration"
   ]
  },
  {
   "cell_type": "code",
   "execution_count": 15,
   "metadata": {},
   "outputs": [],
   "source": [
    "loc, scale = 0, 0.1 #to initialize weights\n",
    "train_ds_percent = 0.8 #to split data into train and test\n",
    "alpha = 0.001 #learning rate\n",
    "diff_loss = 0.0001### Model Configuration"
   ]
  },
  {
   "cell_type": "markdown",
   "metadata": {},
   "source": [
    "### Model Prediction Data Structures"
   ]
  },
  {
   "cell_type": "markdown",
   "metadata": {},
   "source": [
    "#### W\n",
    "The weight matrix is an <font color=blue>N x K</font> matrix, N being the number of attributes, and K being the number of classes"
   ]
  },
  {
   "cell_type": "code",
   "execution_count": 16,
   "metadata": {},
   "outputs": [
    {
     "data": {
      "text/plain": [
       "(5, 3)"
      ]
     },
     "execution_count": 16,
     "metadata": {},
     "output_type": "execute_result"
    }
   ],
   "source": [
    "#initliaze weights randomly\n",
    "W_nk = normal(loc = loc, scale = scale, size = (N, K))\n",
    "W_nk.shape"
   ]
  },
  {
   "cell_type": "markdown",
   "metadata": {},
   "source": [
    "### Predict"
   ]
  },
  {
   "cell_type": "markdown",
   "metadata": {},
   "source": [
    "#### <font color=magenta>softmax</font>"
   ]
  },
  {
   "cell_type": "markdown",
   "metadata": {},
   "source": [
    "<a href=\"https://www.codecogs.com/eqnedit.php?latex=q_{i}\\left&space;(&space;z&space;\\right&space;)=\\frac{e^{z_{i}}}{\\sum_{j\\in&space;\\left&space;\\{&space;1,..K&space;\\right&space;\\}}^{}e^{z_{j}}}\\;&space;\\forall&space;i\\in&space;\\left&space;\\{&space;1,..K&space;\\right&space;\\}\" target=\"_blank\"><img src=\"https://latex.codecogs.com/gif.latex?q_{i}\\left&space;(&space;z&space;\\right&space;)=\\frac{e^{z_{i}}}{\\sum_{j\\in&space;\\left&space;\\{&space;1,..K&space;\\right&space;\\}}^{}e^{z_{j}}}\\;&space;\\forall&space;i\\in&space;\\left&space;\\{&space;1,..K&space;\\right&space;\\}\" title=\"q_{i}\\left ( z \\right )=\\frac{e^{z_{i}}}{\\sum_{j\\in \\left \\{ 1,..K \\right \\}}^{}e^{z_{j}}}\\; \\forall i\\in \\left \\{ 1,..K \\right \\}\" /></a>"
   ]
  },
  {
   "cell_type": "markdown",
   "metadata": {},
   "source": [
    "The equation above shows the softmax calculated for element 'i' of the vector Z. Each Z has K elements (K = no. of classes). The function below performs a vector version of softmax, calculating softmax for each element of vector Z and returning the vector of softmax values."
   ]
  },
  {
   "cell_type": "code",
   "execution_count": 17,
   "metadata": {},
   "outputs": [],
   "source": [
    "#softmax: normalize each element of Z and return the normalized vector\n",
    "def softmax_vec(Z):\n",
    "    # matrix division:\n",
    "    # numerator: exponentiate each element of Z\n",
    "    # denominator: exponentiate each element of Z, and then sum them up\n",
    "    # division: divide each element in the numerator by the sum to normalize it\n",
    "    return exp(Z) / sum([exp(Z_k) for Z_k in Z])"
   ]
  },
  {
   "cell_type": "markdown",
   "metadata": {},
   "source": [
    "#### Y_predicted"
   ]
  },
  {
   "cell_type": "code",
   "execution_count": 18,
   "metadata": {},
   "outputs": [],
   "source": [
    "#predict K probabilities for each data point in 1..M\n",
    "# and return a M xK matrix of probabilities\n",
    "def Y_predicted(X_mn, W_nk):\n",
    "    Z_mk = dot(X_mn, W_nk)\n",
    "    #each row Z of Z_mk is passed to softmax to normalize it.\n",
    "    #Y_pred now has a stack of M normalized Z's.\n",
    "    #Each Z has K elements (K = no. of classes)\n",
    "    #so, now, for each data point, we have K probabilities,\n",
    "    # each telling the probability of the data point belonging to class k = 1..K\n",
    "    Y_pred = np.stack([softmax_vec(Z) for Z in Z_mk])\n",
    "    return Y_pred # M x K matrix"
   ]
  },
  {
   "cell_type": "markdown",
   "metadata": {},
   "source": [
    "### Cost (<font color=magenta>cross-entropy loss</font>)(<font color=blue>negative log likelihood loss</font>)"
   ]
  },
  {
   "cell_type": "markdown",
   "metadata": {},
   "source": [
    "<a href=\"https://www.codecogs.com/eqnedit.php?latex=H\\left&space;(&space;p,&space;q&space;\\right&space;)=-\\sum_{x}^{}p\\left&space;(&space;x&space;\\right&space;)\\;&space;log&space;\\;&space;q\\left&space;(&space;x&space;\\right&space;)\" target=\"_blank\"><img src=\"https://latex.codecogs.com/gif.latex?H\\left&space;(&space;p,&space;q&space;\\right&space;)=-\\sum_{x}^{}p\\left&space;(&space;x&space;\\right&space;)\\;&space;log&space;\\;&space;q\\left&space;(&space;x&space;\\right&space;)\" title=\"H\\left ( p, q \\right )=-\\sum_{x}^{}p\\left ( x \\right )\\; log \\; q\\left ( x \\right )\" /></a>"
   ]
  },
  {
   "cell_type": "code",
   "execution_count": 19,
   "metadata": {},
   "outputs": [
    {
     "data": {
      "text/plain": [
       "168.64146013824276"
      ]
     },
     "execution_count": 19,
     "metadata": {},
     "output_type": "execute_result"
    }
   ],
   "source": [
    "'''Cross-Entropy Loss\n",
    "\n",
    "    returns:\n",
    "        (float) cross-entropy loss from predictions\n",
    "        \n",
    "    parameters:\n",
    "        Y_pred: (M.K array) (numDataPoints.numClasses) predicted class probabilities for M data points\n",
    "        Y: (M.1 array) (numDataPoints) actual class for M data points\n",
    "'''\n",
    "def Loss_ce(Y_pred, Y):\n",
    "    L_ce = 0.0\n",
    "    for m, k in enumerate(Y):\n",
    "        L_ce += (-1)*log(Y_pred[m][k])\n",
    "    return L_ce\n",
    "\n",
    "Loss_ce(Y_predicted(X_mn, W_nk), Y)"
   ]
  },
  {
   "cell_type": "markdown",
   "metadata": {},
   "source": [
    "### Gradient"
   ]
  },
  {
   "cell_type": "markdown",
   "metadata": {},
   "source": [
    "<a href=\"https://www.codecogs.com/eqnedit.php?latex=\\frac{\\partial&space;l\\left&space;(&space;W&space;\\right&space;)}{\\partial&space;w_{i}}=\\sum_{i}^{}X_{i}^{l}\\left&space;(&space;Y^{l}-\\hat{P}\\left&space;(&space;Y^{l}=1|X^{l},&space;W&space;\\right&space;)&space;\\right&space;)\" target=\"_blank\"><img src=\"https://latex.codecogs.com/gif.latex?\\frac{\\partial&space;l\\left&space;(&space;W&space;\\right&space;)}{\\partial&space;w_{i}}=\\sum_{i}^{}X_{i}^{l}\\left&space;(&space;Y^{l}-\\hat{P}\\left&space;(&space;Y^{l}=1|X^{l},&space;W&space;\\right&space;)&space;\\right&space;)\" title=\"\\frac{\\partial l\\left ( W \\right )}{\\partial w_{i}}=\\sum_{i}^{}X_{i}^{l}\\left ( Y^{l}-\\hat{P}\\left ( Y^{l}=1|X^{l}, W \\right ) \\right )\" /></a>"
   ]
  },
  {
   "cell_type": "code",
   "execution_count": 20,
   "metadata": {},
   "outputs": [
    {
     "data": {
      "text/plain": [
       "array([[ -0.39155471,   2.19089601,  -1.7993413 ],\n",
       "       [ 46.39999389,   2.24131206, -48.64130594],\n",
       "       [-46.75856991,  31.37213789,  15.38643202],\n",
       "       [ 62.30179774,  -6.00141406, -56.30038368],\n",
       "       [ 59.5940192 ,  -0.19498116, -59.39903804]])"
      ]
     },
     "execution_count": 20,
     "metadata": {},
     "output_type": "execute_result"
    }
   ],
   "source": [
    "def gradients(X_mn, Y, Y_pred, N, K):\n",
    "    #gradient along each of the N attributes, for each of the K classes\n",
    "    grads = np.zeros((N, K), dtype=float)\n",
    "    for j in range(N):\n",
    "        for k in range(K):\n",
    "            for m, X in enumerate(X_mn):\n",
    "                grads[j][k] += (Y_pred[m][k] - (int)(Y[m]==k))*X[j]\n",
    "\n",
    "    return grads\n",
    "\n",
    "gradients(X_mn, Y, Y_predicted(X_mn, W_nk), N, K)"
   ]
  },
  {
   "cell_type": "markdown",
   "metadata": {},
   "source": [
    "### Training Algorithm"
   ]
  },
  {
   "cell_type": "markdown",
   "metadata": {},
   "source": [
    "<a href=\"https://www.codecogs.com/eqnedit.php?latex=w_{i}\\leftarrow&space;w_{i}&plus;\\eta&space;\\sum_{l}^{}X_{i}^{l}\\left&space;(&space;Y^{l}-\\hat{P}\\left&space;(&space;Y^{l}=1|X^{l},&space;W&space;\\right&space;)&space;\\right&space;)\" target=\"_blank\"><img src=\"https://latex.codecogs.com/gif.latex?w_{i}\\leftarrow&space;w_{i}&plus;\\eta&space;\\sum_{l}^{}X_{i}^{l}\\left&space;(&space;Y^{l}-\\hat{P}\\left&space;(&space;Y^{l}=1|X^{l},&space;W&space;\\right&space;)&space;\\right&space;)\" title=\"w_{i}\\leftarrow w_{i}+\\eta \\sum_{l}^{}X_{i}^{l}\\left ( Y^{l}-\\hat{P}\\left ( Y^{l}=1|X^{l}, W \\right ) \\right )\" /></a>"
   ]
  },
  {
   "cell_type": "code",
   "execution_count": 21,
   "metadata": {},
   "outputs": [],
   "source": [
    "def train(X_mn, Y, W_nk):\n",
    "    Y_pred = Y_predicted(X_mn, W_nk) #predicted probabilities\n",
    "    prev_loss = Loss_ce(Y_pred, Y) #loss to begin with\n",
    "    dLdW = gradients(X_mn, Y, Y_pred, N, K) #gradient along each of the N attributes, for each of the K classes\n",
    "    W_nk = W_nk - (alpha * dLdW) #apply learning_rate*gradient to the weights\n",
    "    Y_pred = Y_predicted(X_mn, W_nk) #predicted probabilities with new weights\n",
    "    new_loss = Loss_ce(Y_pred, Y) #predicted probabilities with new weights\n",
    "    #summary print\n",
    "    i_print = 0\n",
    " \n",
    "    #while the loss function is still converging rapidly\n",
    "    while (prev_loss - new_loss > diff_loss):\n",
    "        if(i_print % 500) == 0:\n",
    "            print('Cost:', new_loss)\n",
    "        prev_loss = new_loss #backup the loss to previous loss for convergence detection\n",
    "        dLdW = gradients(X_mn, Y, Y_pred, N, K) #gradient along each of the N attributes, for each of the K classes\n",
    "        W_nk = W_nk - (alpha * dLdW) #apply learning_rate*gradient to the weights\n",
    "        Y_pred = Y_predicted(X_mn, W_nk) #predicted probabilities with new weights\n",
    "        new_loss = Loss_ce(Y_pred, Y) #predicted probabilities with new weights\n",
    "        i_print += 1\n",
    "        \n",
    "    return W_nk"
   ]
  },
  {
   "cell_type": "markdown",
   "metadata": {},
   "source": [
    "### Learn"
   ]
  },
  {
   "cell_type": "markdown",
   "metadata": {},
   "source": [
    "#### Divide data into Train and Test"
   ]
  },
  {
   "cell_type": "code",
   "execution_count": 22,
   "metadata": {},
   "outputs": [
    {
     "data": {
      "text/plain": [
       "((116, 5), (116,), (34, 5), (34,))"
      ]
     },
     "execution_count": 22,
     "metadata": {},
     "output_type": "execute_result"
    }
   ],
   "source": [
    "mask = rand(M) < train_ds_percent\n",
    "X_tr, Y_tr, X_te, Y_te = X_mn[mask], Y[mask], X_mn[~mask], Y[~mask]\n",
    "X_tr.shape, Y_tr.shape, X_te.shape, Y_te.shape"
   ]
  },
  {
   "cell_type": "markdown",
   "metadata": {},
   "source": [
    "#### Learn"
   ]
  },
  {
   "cell_type": "code",
   "execution_count": 23,
   "metadata": {},
   "outputs": [
    {
     "name": "stdout",
     "output_type": "stream",
     "text": [
      "Cost: 116.6483283544849\n",
      "Cost: 18.249658848820356\n",
      "Cost: 12.951954448719748\n",
      "Cost: 10.645191711359773\n",
      "Cost: 9.324411602909944\n",
      "Cost: 8.452276659013673\n",
      "Cost: 7.824010517344139\n",
      "Cost: 7.344201154723735\n",
      "Cost: 6.962156632256088\n",
      "Cost: 6.648325577035544\n",
      "Cost: 6.384245774778408\n",
      "Cost: 6.157746375601451\n",
      "Cost: 5.960451836587583\n",
      "Cost: 5.786392123110191\n",
      "Cost: 5.6311851365748495\n",
      "Cost: 5.491533384283073\n",
      "Cost: 5.36490201563757\n",
      "Cost: 5.249306026851437\n",
      "Cost: 5.14316558536557\n",
      "Cost: 5.045205207521434\n",
      "Cost: 4.954381949702238\n",
      "Cost: 4.8698332639541295\n",
      "Cost: 4.790838471178479\n",
      "Cost: 4.716789847874346\n",
      "Cost: 4.647170618675076\n",
      "Cost: 4.581537988365074\n",
      "Cost: 4.519509904618752\n",
      "Cost: 4.460754619121964\n",
      "Cost: 4.404982373239275\n",
      "Cost: 4.351938714714369\n"
     ]
    }
   ],
   "source": [
    "W_nk = train(X_tr, Y_tr, W_nk)"
   ]
  },
  {
   "cell_type": "markdown",
   "metadata": {},
   "source": [
    "## Prediction"
   ]
  },
  {
   "cell_type": "markdown",
   "metadata": {},
   "source": [
    "### Predict"
   ]
  },
  {
   "cell_type": "code",
   "execution_count": 24,
   "metadata": {},
   "outputs": [],
   "source": [
    "Y_pred_k = [np.argmax(y_pred_k) for y_pred_k in Y_predicted(X_te, W_nk)]"
   ]
  },
  {
   "cell_type": "markdown",
   "metadata": {},
   "source": [
    "### <font color=magenta>Prediction Accuracy</font>"
   ]
  },
  {
   "cell_type": "code",
   "execution_count": 25,
   "metadata": {},
   "outputs": [
    {
     "name": "stdout",
     "output_type": "stream",
     "text": [
      "Accuracy is 94.11764705882354 percent.\n"
     ]
    }
   ],
   "source": [
    "matches = sum([int(pred==actual) for pred, actual in zip(Y_pred_k, Y_te)])\n",
    "print('Accuracy is', (matches*100)/len(Y_te), 'percent.')"
   ]
  },
  {
   "cell_type": "markdown",
   "metadata": {},
   "source": [
    "## Sidebar - <font color=blue>Multiclass Logistic Regression</font>"
   ]
  },
  {
   "cell_type": "markdown",
   "metadata": {},
   "source": [
    "### <font color=magenta>Why Softmax?</font>"
   ]
  },
  {
   "cell_type": "markdown",
   "metadata": {},
   "source": [
    "<img src=\"../assets/images/iris-multi-logreg/softmax_why.png\">"
   ]
  },
  {
   "cell_type": "markdown",
   "metadata": {},
   "source": [
    "### Why <font color=magenta>linear</font>?"
   ]
  },
  {
   "cell_type": "markdown",
   "metadata": {},
   "source": [
    "<img src=\"../assets/images/iris-multi-logreg/softmax_linear.png\">"
   ]
  },
  {
   "cell_type": "markdown",
   "metadata": {},
   "source": [
    "x has unnormalized probabilities, y_cap has normalized probabilities."
   ]
  },
  {
   "cell_type": "markdown",
   "metadata": {},
   "source": [
    "### <font color=magenta>Generalization of sigmoid to softmax</font>"
   ]
  },
  {
   "cell_type": "markdown",
   "metadata": {},
   "source": [
    "<img src=\"../assets/images/iris-multi-logreg/softmax.png\">"
   ]
  },
  {
   "cell_type": "markdown",
   "metadata": {},
   "source": [
    "### <font color=magenta>Negative Log-Likelihood Loss</font>"
   ]
  },
  {
   "cell_type": "markdown",
   "metadata": {},
   "source": [
    "<img src=\"../assets/images/iris-multi-logreg/multi_logreg_neg_log_like_loss.png\">"
   ]
  },
  {
   "cell_type": "markdown",
   "metadata": {},
   "source": [
    "### <font color=magenta>Derivation of Eq.5.37</font> (gradient for a single example)"
   ]
  },
  {
   "cell_type": "markdown",
   "metadata": {},
   "source": [
    "<img src=\"../assets/images/iris-multi-logreg/notebook_notes.jpg\">"
   ]
  },
  {
   "cell_type": "code",
   "execution_count": null,
   "metadata": {},
   "outputs": [],
   "source": []
  }
 ],
 "metadata": {
  "kernelspec": {
   "display_name": "Python 3",
   "language": "python",
   "name": "python3"
  },
  "language_info": {
   "codemirror_mode": {
    "name": "ipython",
    "version": 3
   },
   "file_extension": ".py",
   "mimetype": "text/x-python",
   "name": "python",
   "nbconvert_exporter": "python",
   "pygments_lexer": "ipython3",
   "version": "3.8.3"
  }
 },
 "nbformat": 4,
 "nbformat_minor": 4
}
