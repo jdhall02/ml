{
 "cells": [
  {
   "cell_type": "markdown",
   "metadata": {},
   "source": [
    "#  <font color=orange>The Simplified - Sequential Minimal Optimization (SMO) Algorithm</font> - <font color=black>Support Vector Machines</font>"
   ]
  },
  {
   "cell_type": "markdown",
   "metadata": {},
   "source": [
    "## <font color=magenta>Stanford CS229</font> - <font color=black>Andrew Ng</font>"
   ]
  },
  {
   "cell_type": "markdown",
   "metadata": {},
   "source": [
    "<img src=\"../assets/images/cs229-my-svm-notes-images/SVM.jpg\">"
   ]
  },
  {
   "cell_type": "markdown",
   "metadata": {},
   "source": [
    "## Introduction"
   ]
  },
  {
   "cell_type": "markdown",
   "metadata": {},
   "source": [
    "This notebook implements the Simplified - SMO algorithm of Support Vector Machines. It performs <font color=blue>binary classification</font> on a generated dataset consisting of two gaussian distributed clusters of points in a 2-dimensional space. The support vectors are visually shown forming a boundary between the two clusters of points. The prediction accuracy for a learning dataset of 100 points is <font color=blue>98-100%</font>.\n",
    "\n",
    "Resources:\n",
    "- [The Simplified - Sequential Minimal Optimization (SMO) Algorithm](http://cs229.stanford.edu/materials/smo.pdf)\n",
    "- [Stanford CS229 Course Notes on SVM](http://cs229.stanford.edu/summer2020/cs229-notes3.pdf)\n",
    "- [Original Publication: Sequential Minimal Optimization: A Fast Algorithm for Training Support Vector Machines - John Platt](https://www.microsoft.com/en-us/research/wp-content/uploads/2016/02/tr-98-14.pdf)\n",
    "\n",
    "The Simplified - SMO algorithm differs from the original SMO algorithm by <font color=magenta>John Platt</font> only in the _choice of the data point 'j', given a chosen data point 'i'_ while performing gradient descent on a pair of points at a time.\n",
    "\n",
    "Towards the end, I have included a <font color=blue>sidebar</font> on the <font color=magenta>Primal to Dual Problem</font>. "
   ]
  },
  {
   "cell_type": "markdown",
   "metadata": {},
   "source": [
    "## Taxonomy"
   ]
  },
  {
   "cell_type": "markdown",
   "metadata": {},
   "source": [
    "SVM is not probabilistic. SVM takes a <font color=blue>geometric</font> approach to classification. It is a <font color=blue>discriminative</font> classifier. It is a <font color=blue>binary</font> classification algorithm. The classifier finds a <font color=blue>linear</font> hyperplane separating the two classes of data points. It is <font color=blue>parametric</font>, with weights and a bias for the features, and lagrange multipliers for the constraints.\n",
    "\n",
    "Multi-class SVM can be developed using a one-vs-one or a one-vs-all approach.\n",
    "\n",
    "In summary, a SVM classifier is:\n",
    "- Non-Probabilistic, Geometric\n",
    "- Discriminative\n",
    "- Binary\n",
    "- Linear\n",
    "- Parametric"
   ]
  },
  {
   "cell_type": "markdown",
   "metadata": {},
   "source": [
    "<img src=\"../assets/images/cs229-my-svm-notes-images/taxonomy-svm.png\">"
   ]
  },
  {
   "cell_type": "markdown",
   "metadata": {},
   "source": [
    "## Imports"
   ]
  },
  {
   "cell_type": "code",
   "execution_count": 1,
   "metadata": {},
   "outputs": [],
   "source": [
    "import numpy as np #arrays for data points\n",
    "from numpy.random import normal, randint #gaussian distributed data points\n",
    "from numpy import dot #vector dot product for the linear kernel\n",
    "import pandas as pd #create dataframe from data points, for plotting using sns\n",
    "import matplotlib.pyplot as plt #plotting\n",
    "import seaborn as sns #plotting\n",
    "%matplotlib inline"
   ]
  },
  {
   "cell_type": "markdown",
   "metadata": {},
   "source": [
    "## X_m, Y"
   ]
  },
  {
   "cell_type": "markdown",
   "metadata": {},
   "source": [
    "### Data Configuration"
   ]
  },
  {
   "cell_type": "code",
   "execution_count": 2,
   "metadata": {},
   "outputs": [],
   "source": [
    "M = 100 #number of data points\n",
    "n_features = 2 #number of dimensions\n",
    "cols = ['X1', 'X2', 'Y'] #column names of the dataframe\n",
    "K = 2 #number of classes\n",
    "loc_scale = [(5, 1), (8, 1)] #mean and std of data points belonging to each class"
   ]
  },
  {
   "cell_type": "markdown",
   "metadata": {},
   "source": [
    "### Generate Data\n",
    "Gaussian clusters in 2D numpy arrays"
   ]
  },
  {
   "cell_type": "code",
   "execution_count": 3,
   "metadata": {},
   "outputs": [],
   "source": [
    "def generate_X_m_and_Y(M, K, n_features, loc_scale):\n",
    "    #X_m, Y\n",
    "    X_m = np.empty((K, (int)(M/2), n_features), dtype=float) #initialize data points\n",
    "    Y = np.empty((K, (int)(M/2)), dtype=int) #initialize the class labels\n",
    "    for k in range(K): #for each class, generate data points #create data points for each class\n",
    "        #create data points for class k using gaussian (normal) distribution\n",
    "        X_m[k] = normal(loc=loc_scale[k][0], scale=loc_scale[k][1], size=((int)(M/2), n_features))\n",
    "        #create labels (-1, +1) for class k (0, 1).\n",
    "        #trick: for k=0, label is -1+2*0=-1; for k=1, label is -1+2*1=1\n",
    "        Y[k] = np.full(((int)(M/2)), -1 + 2*k, dtype=int)\n",
    "    X_m = X_m.reshape(M, K) #collapse the class axis\n",
    "    Y = Y.reshape(M) #collapse the class axis\n",
    "    X_m.shape, Y.shape #print shapes\n",
    "    \n",
    "    return X_m, Y\n",
    "\n",
    "X_m, Y = generate_X_m_and_Y(M, K, n_features, loc_scale)"
   ]
  },
  {
   "cell_type": "markdown",
   "metadata": {},
   "source": [
    "### X_m, Y in DataFrame"
   ]
  },
  {
   "cell_type": "code",
   "execution_count": 4,
   "metadata": {},
   "outputs": [
    {
     "data": {
      "text/html": [
       "<div>\n",
       "<style scoped>\n",
       "    .dataframe tbody tr th:only-of-type {\n",
       "        vertical-align: middle;\n",
       "    }\n",
       "\n",
       "    .dataframe tbody tr th {\n",
       "        vertical-align: top;\n",
       "    }\n",
       "\n",
       "    .dataframe thead th {\n",
       "        text-align: right;\n",
       "    }\n",
       "</style>\n",
       "<table border=\"1\" class=\"dataframe\">\n",
       "  <thead>\n",
       "    <tr style=\"text-align: right;\">\n",
       "      <th></th>\n",
       "      <th>X1</th>\n",
       "      <th>X2</th>\n",
       "      <th>Y</th>\n",
       "    </tr>\n",
       "  </thead>\n",
       "  <tbody>\n",
       "    <tr>\n",
       "      <th>40</th>\n",
       "      <td>5.211933</td>\n",
       "      <td>3.162270</td>\n",
       "      <td>-1</td>\n",
       "    </tr>\n",
       "    <tr>\n",
       "      <th>96</th>\n",
       "      <td>7.682917</td>\n",
       "      <td>9.953946</td>\n",
       "      <td>1</td>\n",
       "    </tr>\n",
       "    <tr>\n",
       "      <th>22</th>\n",
       "      <td>2.870566</td>\n",
       "      <td>5.851050</td>\n",
       "      <td>-1</td>\n",
       "    </tr>\n",
       "    <tr>\n",
       "      <th>43</th>\n",
       "      <td>3.325478</td>\n",
       "      <td>3.798079</td>\n",
       "      <td>-1</td>\n",
       "    </tr>\n",
       "    <tr>\n",
       "      <th>59</th>\n",
       "      <td>7.752266</td>\n",
       "      <td>8.119911</td>\n",
       "      <td>1</td>\n",
       "    </tr>\n",
       "    <tr>\n",
       "      <th>52</th>\n",
       "      <td>7.489131</td>\n",
       "      <td>8.838146</td>\n",
       "      <td>1</td>\n",
       "    </tr>\n",
       "    <tr>\n",
       "      <th>2</th>\n",
       "      <td>4.896474</td>\n",
       "      <td>4.321929</td>\n",
       "      <td>-1</td>\n",
       "    </tr>\n",
       "    <tr>\n",
       "      <th>57</th>\n",
       "      <td>10.056611</td>\n",
       "      <td>7.791627</td>\n",
       "      <td>1</td>\n",
       "    </tr>\n",
       "    <tr>\n",
       "      <th>84</th>\n",
       "      <td>8.746390</td>\n",
       "      <td>7.573401</td>\n",
       "      <td>1</td>\n",
       "    </tr>\n",
       "    <tr>\n",
       "      <th>32</th>\n",
       "      <td>5.165944</td>\n",
       "      <td>5.219445</td>\n",
       "      <td>-1</td>\n",
       "    </tr>\n",
       "  </tbody>\n",
       "</table>\n",
       "</div>"
      ],
      "text/plain": [
       "           X1        X2  Y\n",
       "40   5.211933  3.162270 -1\n",
       "96   7.682917  9.953946  1\n",
       "22   2.870566  5.851050 -1\n",
       "43   3.325478  3.798079 -1\n",
       "59   7.752266  8.119911  1\n",
       "52   7.489131  8.838146  1\n",
       "2    4.896474  4.321929 -1\n",
       "57  10.056611  7.791627  1\n",
       "84   8.746390  7.573401  1\n",
       "32   5.165944  5.219445 -1"
      ]
     },
     "execution_count": 4,
     "metadata": {},
     "output_type": "execute_result"
    }
   ],
   "source": [
    "def create_df_from_array(X_m, Y, n_features, cols):\n",
    "    #create series from each column of X_m, and a series from Y\n",
    "    l_series = [] #list of series, one for each column\n",
    "    for feat in range(n_features): #create series from each column of X_m\n",
    "        l_series.append(pd.Series(X_m[:, feat])) #create series from a column of X_m\n",
    "    l_series.append(pd.Series(Y[:])) #create series from Y\n",
    "\n",
    "    frame = {col : series for col, series in zip(cols, l_series)} #map of column names to series\n",
    "    df = pd.DataFrame(frame) #create dataframe from map\n",
    "\n",
    "    return df\n",
    "\n",
    "df = create_df_from_array(X_m, Y, n_features, cols)\n",
    "df.sample(n = 10)"
   ]
  },
  {
   "cell_type": "code",
   "execution_count": 5,
   "metadata": {},
   "outputs": [
    {
     "data": {
      "text/plain": [
       "<AxesSubplot:xlabel='X1', ylabel='X2'>"
      ]
     },
     "execution_count": 5,
     "metadata": {},
     "output_type": "execute_result"
    },
    {
     "data": {
      "image/png": "[encoded data removed]",
      "text/plain": [
       "<Figure size 432x288 with 1 Axes>"
      ]
     },
     "metadata": {
      "needs_background": "light"
     },
     "output_type": "display_data"
    }
   ],
   "source": [
    "#scatter plot of data points\n",
    "#class column Y is passed in as hue\n",
    "sns.scatterplot(x=cols[0], y=cols[1], hue=cols[2], data=df)"
   ]
  },
  {
   "cell_type": "markdown",
   "metadata": {},
   "source": [
    "## Model"
   ]
  },
  {
   "cell_type": "markdown",
   "metadata": {},
   "source": [
    "### Model Configuration"
   ]
  },
  {
   "cell_type": "code",
   "execution_count": 6,
   "metadata": {},
   "outputs": [],
   "source": [
    "#cost to pay if functional margin is < 1\n",
    "C = 0.6 #regularization parameter\n",
    "\n",
    "#tolerance for meeting the KKT conditions that are used to check for convergence\n",
    "tol = 0.001 #tolerance\n",
    "\n",
    "#number of iterations to perform after the alphas have converged\n",
    "max_passes = 5"
   ]
  },
  {
   "cell_type": "markdown",
   "metadata": {},
   "source": [
    "### Model Prediction Data Structures"
   ]
  },
  {
   "cell_type": "markdown",
   "metadata": {},
   "source": [
    "Note that alphas and bias are created here for testing the functions that follow. They will be created fresh inside the SMO algorithm."
   ]
  },
  {
   "cell_type": "code",
   "execution_count": 7,
   "metadata": {},
   "outputs": [],
   "source": [
    "#estimated lagrangian Multipliers\n",
    "#most of the alphas will be close to zero, except for alphas of data points that are support vectors\n",
    "alphas = np.zeros((M), dtype=float) #one multiplier for each data point\n",
    "\n",
    "#bias of the dual problem\n",
    "#in the primal problem, we have both w (weights) and b (bias).\n",
    "#in the dual problem, w is replaced with alpha, but b remains.\n",
    "bias = 0.0"
   ]
  },
  {
   "cell_type": "markdown",
   "metadata": {},
   "source": [
    "### Linear Kernel"
   ]
  },
  {
   "cell_type": "code",
   "execution_count": 8,
   "metadata": {},
   "outputs": [],
   "source": [
    "'''linear kernel : compute the dot product of the 2 vectors\n",
    "    \n",
    "    returns:\n",
    "        (float) the dot product of the 2 vectors\n",
    "        \n",
    "    parameters:\n",
    "        X1: the first vector\n",
    "        X2: the second vector\n",
    "'''\n",
    "def k_lin(X1, X2):\n",
    "    return dot(X1, X2)"
   ]
  },
  {
   "cell_type": "markdown",
   "metadata": {},
   "source": [
    "### Predict (eq 2)"
   ]
  },
  {
   "cell_type": "markdown",
   "metadata": {},
   "source": [
    "<a href=\"https://www.codecogs.com/eqnedit.php?latex=f\\left&space;(&space;x&space;\\right&space;)=&space;\\sum_{i=1}^{m}\\alpha&space;_{i}y^{\\left&space;(&space;i&space;\\right&space;)}\\left&space;\\langle&space;x^{\\left&space;(&space;i&space;\\right&space;)},&space;x&space;\\right&space;\\rangle&space;&plus;&space;b\" target=\"_blank\"><img src=\"https://latex.codecogs.com/gif.latex?f\\left&space;(&space;x&space;\\right&space;)=&space;\\sum_{i=1}^{m}\\alpha&space;_{i}y^{\\left&space;(&space;i&space;\\right&space;)}\\left&space;\\langle&space;x^{\\left&space;(&space;i&space;\\right&space;)},&space;x&space;\\right&space;\\rangle&space;&plus;&space;b\" title=\"f\\left ( x \\right )= \\sum_{i=1}^{m}\\alpha _{i}y^{\\left ( i \\right )}\\left \\langle x^{\\left ( i \\right )}, x \\right \\rangle + b\" /></a>"
   ]
  },
  {
   "cell_type": "code",
   "execution_count": 9,
   "metadata": {},
   "outputs": [
    {
     "data": {
      "text/plain": [
       "0.0"
      ]
     },
     "execution_count": 9,
     "metadata": {},
     "output_type": "execute_result"
    }
   ],
   "source": [
    "'''predict the label given the input, training data, and learnt parameters alphas and bias.\n",
    "    this is equivalent to WX + b, but using alphas instead of W.\n",
    "'''\n",
    "def fx(X, X_m, Y, alphas, bias, knl = k_lin):\n",
    "    pred = 0.0\n",
    "    for i, Xi in enumerate(X_m):\n",
    "        pred += alphas[i] * Y[i] * knl(Xi, X)\n",
    "    \n",
    "    return pred + bias\n",
    "\n",
    "fx(X_m[0], X_m, Y, alphas, bias)"
   ]
  },
  {
   "cell_type": "markdown",
   "metadata": {},
   "source": [
    "### Error for a data point (eq 13)"
   ]
  },
  {
   "cell_type": "markdown",
   "metadata": {},
   "source": [
    "<a href=\"https://www.codecogs.com/eqnedit.php?latex=E_{k}=f\\left&space;(&space;x^{\\left&space;(&space;k&space;\\right&space;)}&space;\\right&space;)-y^{\\left&space;(&space;k&space;\\right&space;)}\" target=\"_blank\"><img src=\"https://latex.codecogs.com/gif.latex?E_{k}=f\\left&space;(&space;x^{\\left&space;(&space;k&space;\\right&space;)}&space;\\right&space;)-y^{\\left&space;(&space;k&space;\\right&space;)}\" title=\"E_{k}=f\\left ( x^{\\left ( k \\right )} \\right )-y^{\\left ( k \\right )}\" /></a>"
   ]
  },
  {
   "cell_type": "code",
   "execution_count": 10,
   "metadata": {},
   "outputs": [
    {
     "data": {
      "text/plain": [
       "1.0"
      ]
     },
     "execution_count": 10,
     "metadata": {},
     "output_type": "execute_result"
    }
   ],
   "source": [
    "'''error between the SVM output and the true label\n",
    "'''\n",
    "def Err(X, y, X_m, Y, alphas, bias, knl = k_lin):\n",
    "    #predict the label\n",
    "    y_pred = fx(X, X_m, Y, alphas, bias, knl)\n",
    "    \n",
    "    return y_pred - (float)(y)\n",
    "\n",
    "Err(X_m[0], Y[0], X_m, Y, alphas, bias)"
   ]
  },
  {
   "cell_type": "markdown",
   "metadata": {},
   "source": [
    "### KKT Dual Complementarity Conditions (eq 6-8)"
   ]
  },
  {
   "cell_type": "markdown",
   "metadata": {},
   "source": [
    "<a href=\"https://www.codecogs.com/eqnedit.php?latex=\\alpha&space;_{i}=&space;0\\Rightarrow&space;y^{\\left&space;(&space;i&space;\\right&space;)}\\left&space;(&space;w^{T}x^{\\left&space;(&space;i&space;\\right&space;)}&plus;b&space;\\right&space;)\\geq&space;1\" target=\"_blank\"><img src=\"https://latex.codecogs.com/gif.latex?\\alpha&space;_{i}=&space;0\\Rightarrow&space;y^{\\left&space;(&space;i&space;\\right&space;)}\\left&space;(&space;w^{T}x^{\\left&space;(&space;i&space;\\right&space;)}&plus;b&space;\\right&space;)\\geq&space;1\" title=\"\\alpha _{i}= 0\\Rightarrow y^{\\left ( i \\right )}\\left ( w^{T}x^{\\left ( i \\right )}+b \\right )\\geq 1\" /></a>"
   ]
  },
  {
   "cell_type": "markdown",
   "metadata": {},
   "source": [
    "<a href=\"https://www.codecogs.com/eqnedit.php?latex=\\alpha&space;_{i}=C\\Rightarrow&space;y\\left&space;(&space;i&space;\\right&space;)\\left&space;(&space;w^{T}x^{\\left&space;(&space;i&space;\\right&space;)}&space;&plus;b\\right&space;)\\leq&space;1\" target=\"_blank\"><img src=\"https://latex.codecogs.com/gif.latex?\\alpha&space;_{i}=C\\Rightarrow&space;y\\left&space;(&space;i&space;\\right&space;)\\left&space;(&space;w^{T}x^{\\left&space;(&space;i&space;\\right&space;)}&space;&plus;b\\right&space;)\\leq&space;1\" title=\"\\alpha _{i}=C\\Rightarrow y\\left ( i \\right )\\left ( w^{T}x^{\\left ( i \\right )} +b\\right )\\leq 1\" /></a>"
   ]
  },
  {
   "cell_type": "markdown",
   "metadata": {},
   "source": [
    "<a href=\"https://www.codecogs.com/eqnedit.php?latex=0<&space;\\alpha&space;_{i}<&space;C\\Rightarrow&space;y\\left&space;(&space;i&space;\\right&space;)\\left&space;(&space;w^{T}x^{\\left&space;(&space;i&space;\\right&space;)}&space;&plus;b\\right&space;)=&space;1\" target=\"_blank\"><img src=\"https://latex.codecogs.com/gif.latex?0<&space;\\alpha&space;_{i}<&space;C\\Rightarrow&space;y\\left&space;(&space;i&space;\\right&space;)\\left&space;(&space;w^{T}x^{\\left&space;(&space;i&space;\\right&space;)}&space;&plus;b\\right&space;)=&space;1\" title=\"0< \\alpha _{i}< C\\Rightarrow y\\left ( i \\right )\\left ( w^{T}x^{\\left ( i \\right )} +b\\right )= 1\" /></a>"
   ]
  },
  {
   "cell_type": "markdown",
   "metadata": {},
   "source": [
    "The above equations translate into the following pseudo-code:\n",
    "<img src=\"../assets/images/cs229-my-svm-notes-images/kkt-cond.png\">"
   ]
  },
  {
   "cell_type": "code",
   "execution_count": 11,
   "metadata": {},
   "outputs": [
    {
     "data": {
      "text/plain": [
       "True"
      ]
     },
     "execution_count": 11,
     "metadata": {},
     "output_type": "execute_result"
    }
   ],
   "source": [
    "'''Karush-Kuhn-Tucker conditions\n",
    "'''\n",
    "def kkt(y, err, alpha):\n",
    "    if ((y * err < -tol) and (alpha < C)) or \\\n",
    "    ((y * err > tol) and (alpha > 0)):\n",
    "        return True\n",
    "    \n",
    "    return False\n",
    "\n",
    "err = Err(X_m[0], Y[0], X_m, Y, alphas, bias)\n",
    "kkt(Y[0], err, alphas[0])"
   ]
  },
  {
   "cell_type": "markdown",
   "metadata": {},
   "source": [
    "### L and H - boundary constraints on alphas (eq 10-11)"
   ]
  },
  {
   "cell_type": "markdown",
   "metadata": {},
   "source": [
    "<a href=\"https://www.codecogs.com/eqnedit.php?latex=y^{\\left&space;(&space;i&space;\\right&space;)}\\neq&space;y^{j}&space;\\Rightarrow&space;L&space;=&space;max(0,&space;\\alpha&space;_{j}-\\alpha&space;_{i}),&space;H&space;=&space;min(C,&space;C&plus;\\alpha&space;_{j}-\\alpha&space;_{i}))\" target=\"_blank\"><img src=\"https://latex.codecogs.com/gif.latex?y^{\\left&space;(&space;i&space;\\right&space;)}\\neq&space;y^{j}&space;\\Rightarrow&space;L&space;=&space;max(0,&space;\\alpha&space;_{j}-\\alpha&space;_{i}),&space;H&space;=&space;min(C,&space;C&plus;\\alpha&space;_{j}-\\alpha&space;_{i}))\" title=\"y^{\\left ( i \\right )}\\neq y^{j} \\Rightarrow L = max(0, \\alpha _{j}-\\alpha _{i}), H = min(C, C+\\alpha _{j}-\\alpha _{i}))\" /></a>"
   ]
  },
  {
   "cell_type": "markdown",
   "metadata": {},
   "source": [
    "<a href=\"https://www.codecogs.com/eqnedit.php?latex=y^{\\left&space;(&space;i&space;\\right&space;)}=&space;y^{j}&space;\\Rightarrow&space;L&space;=&space;max(0,&space;\\alpha&space;_{i}&plus;\\alpha&space;_{j}-C),&space;H&space;=&space;min(C,&space;\\alpha&space;_{i}&plus;\\alpha&space;_{j}))\" target=\"_blank\"><img src=\"https://latex.codecogs.com/gif.latex?y^{\\left&space;(&space;i&space;\\right&space;)}=&space;y^{j}&space;\\Rightarrow&space;L&space;=&space;max(0,&space;\\alpha&space;_{i}&plus;\\alpha&space;_{j}-C),&space;H&space;=&space;min(C,&space;\\alpha&space;_{i}&plus;\\alpha&space;_{j}))\" title=\"y^{\\left ( i \\right )}= y^{j} \\Rightarrow L = max(0, \\alpha _{i}+\\alpha _{j}-C), H = min(C, \\alpha _{i}+\\alpha _{j}))\" /></a>"
   ]
  },
  {
   "cell_type": "code",
   "execution_count": 12,
   "metadata": {},
   "outputs": [
    {
     "data": {
      "text/plain": [
       "(0, 0.0)"
      ]
     },
     "execution_count": 12,
     "metadata": {},
     "output_type": "execute_result"
    }
   ],
   "source": [
    "def LH(yi, yj, ai, aj):\n",
    "    if yi != yj:\n",
    "        L, H = max(0, aj-ai), min(C, C+aj-ai)\n",
    "    else:\n",
    "        L, H = max(0, ai+aj-C), min(C, ai+aj)\n",
    "        \n",
    "    #if(L > H):\n",
    "        #print('L IS GREATER THAN H: L=', L, ' H=', H, ' yi=', yi, ' yj=', yj, ' ai=', ai, ' aj=', aj)\n",
    "        \n",
    "    return L, H\n",
    "\n",
    "LH(Y[0], Y[1], alphas[0], alphas[1])"
   ]
  },
  {
   "cell_type": "markdown",
   "metadata": {},
   "source": [
    "### n - denominator when calculating optimal alpha_j (eq 14)"
   ]
  },
  {
   "cell_type": "markdown",
   "metadata": {},
   "source": [
    "<a href=\"https://www.codecogs.com/eqnedit.php?latex=\\eta&space;=2\\left&space;(&space;x^{\\left&space;(&space;i&space;\\right&space;)},x^{\\left&space;(&space;j&space;\\right&space;)}&space;\\right&space;)-\\left&space;(&space;x^{\\left&space;(&space;i&space;\\right&space;)},x^{\\left&space;(&space;i&space;\\right&space;)}&space;\\right&space;)-\\left&space;(&space;x^{\\left&space;(&space;j&space;\\right&space;)},x^{\\left&space;(&space;j&space;\\right&space;)}&space;\\right&space;)\" target=\"_blank\"><img src=\"https://latex.codecogs.com/gif.latex?\\eta&space;=2\\left&space;(&space;x^{\\left&space;(&space;i&space;\\right&space;)},x^{\\left&space;(&space;j&space;\\right&space;)}&space;\\right&space;)-\\left&space;(&space;x^{\\left&space;(&space;i&space;\\right&space;)},x^{\\left&space;(&space;i&space;\\right&space;)}&space;\\right&space;)-\\left&space;(&space;x^{\\left&space;(&space;j&space;\\right&space;)},x^{\\left&space;(&space;j&space;\\right&space;)}&space;\\right&space;)\" title=\"\\eta =2\\left ( x^{\\left ( i \\right )},x^{\\left ( j \\right )} \\right )-\\left ( x^{\\left ( i \\right )},x^{\\left ( i \\right )} \\right )-\\left ( x^{\\left ( j \\right )},x^{\\left ( j \\right )} \\right )\" /></a>"
   ]
  },
  {
   "cell_type": "code",
   "execution_count": 13,
   "metadata": {},
   "outputs": [
    {
     "data": {
      "text/plain": [
       "-1.6061731002951376"
      ]
     },
     "execution_count": 13,
     "metadata": {},
     "output_type": "execute_result"
    }
   ],
   "source": [
    "'''denominator when calculating optimal alpha_j\n",
    "'''\n",
    "def n_den(Xi, Xj, knl = k_lin):\n",
    "    return 2 * knl(Xi, Xj) - knl(Xi, Xi) - knl(Xj, Xj) #TODO line 63 return (-1) *\n",
    "\n",
    "n_den(X_m[0], X_m[1])"
   ]
  },
  {
   "cell_type": "markdown",
   "metadata": {},
   "source": [
    "### alpha_j (eq 12)"
   ]
  },
  {
   "cell_type": "markdown",
   "metadata": {},
   "source": [
    "<a href=\"https://www.codecogs.com/eqnedit.php?latex=\\alpha&space;_{j}:=&space;\\alpha&space;_{j}-\\frac{y^{\\left&space;(&space;j&space;\\right&space;)}\\left&space;(&space;E_{i}-E_{j}&space;\\right&space;)}{\\eta&space;}\" target=\"_blank\"><img src=\"https://latex.codecogs.com/gif.latex?\\alpha&space;_{j}:=&space;\\alpha&space;_{j}-\\frac{y^{\\left&space;(&space;j&space;\\right&space;)}\\left&space;(&space;E_{i}-E_{j}&space;\\right&space;)}{\\eta&space;}\" title=\"\\alpha _{j}:= \\alpha _{j}-\\frac{y^{\\left ( j \\right )}\\left ( E_{i}-E_{j} \\right )}{\\eta }\" /></a>"
   ]
  },
  {
   "cell_type": "code",
   "execution_count": 14,
   "metadata": {},
   "outputs": [
    {
     "name": "stdout",
     "output_type": "stream",
     "text": [
      "Xi= [2.7774898  4.15832218] Yi= -1\n",
      "Xj= [6.98985299 8.45370087] Yj= 1\n",
      "err_i= 1.0 err_j= -1.0 n= -36.19428180189391 aj= 0.05525734730548922\n"
     ]
    }
   ],
   "source": [
    "def alpha_j(aj, yj, err_i, err_j, n):\n",
    "    return aj - ((yj * (err_i - err_j)) / n) #TODO line 65 aj + \n",
    "\n",
    "i, j = 0, M-1\n",
    "Xi, Xj, Yi, Yj = X_m[i], X_m[j], Y[i], Y[j]\n",
    "err_i = Err(Xi, Yi, X_m, Y, alphas, bias)\n",
    "err_j = Err(Xj, Yj, X_m, Y, alphas, bias)\n",
    "n = n_den(Xi, Xj)\n",
    "aj = alpha_j(alphas[j], Yj, err_i, err_j, n)\n",
    "print('Xi=', Xi, 'Yi=', Yi)\n",
    "print('Xj=', Xj, 'Yj=', Yj)\n",
    "print('err_i=', err_i, 'err_j=', err_j, 'n=', n, 'aj=', aj)"
   ]
  },
  {
   "cell_type": "markdown",
   "metadata": {},
   "source": [
    "### clipped / constrained alpha_j (eq 15)"
   ]
  },
  {
   "cell_type": "markdown",
   "metadata": {},
   "source": [
    "<a href=\"https://www.codecogs.com/eqnedit.php?latex=\\alpha&space;_{j}:=\\left\\{\\begin{matrix}&space;H&space;&&space;if\\:&space;\\alpha&space;_{j}&space;>&space;H&space;\\\\&space;\\alpha&space;_{j}&space;&&space;if\\:&space;L&space;\\leq&space;\\alpha&space;_{j}&space;\\leq&space;H\\\\&space;L&space;&&space;if\\;&space;\\alpha&space;_{j}&space;<&space;L&space;\\end{matrix}\\right.\" target=\"_blank\"><img src=\"https://latex.codecogs.com/gif.latex?\\alpha&space;_{j}:=\\left\\{\\begin{matrix}&space;H&space;&&space;if\\:&space;\\alpha&space;_{j}&space;>&space;H&space;\\\\&space;\\alpha&space;_{j}&space;&&space;if\\:&space;L&space;\\leq&space;\\alpha&space;_{j}&space;\\leq&space;H\\\\&space;L&space;&&space;if\\;&space;\\alpha&space;_{j}&space;<&space;L&space;\\end{matrix}\\right.\" title=\"\\alpha _{j}:=\\left\\{\\begin{matrix} H & if\\: \\alpha _{j} > H \\\\ \\alpha _{j} & if\\: L \\leq \\alpha _{j} \\leq H\\\\ L & if\\; \\alpha _{j} < L \\end{matrix}\\right.\" /></a>"
   ]
  },
  {
   "cell_type": "code",
   "execution_count": 15,
   "metadata": {},
   "outputs": [
    {
     "name": "stdout",
     "output_type": "stream",
     "text": [
      "aj_old= 0.0 aj_new= 0.05525734730548922\n",
      "L= 0.05525734730548922 H= 0.6 aj_clipped= 0.05525734730548922\n"
     ]
    }
   ],
   "source": [
    "def clip_alpha_j(aj, L, H):\n",
    "    if aj > H:\n",
    "        return H\n",
    "    elif (L <= aj and aj <= H):\n",
    "        return aj\n",
    "    else:\n",
    "        return L\n",
    "\n",
    "i, j = 0, M-1\n",
    "Xi, Xj, Yi, Yj = X_m[i], X_m[j], Y[i], Y[j]\n",
    "err_i = Err(Xi, Yi, X_m, Y, alphas, bias)\n",
    "err_j = Err(Xj, Yj, X_m, Y, alphas, bias)\n",
    "n = n_den(Xi, Xj)\n",
    "aj = alpha_j(alphas[j], Yj, err_i, err_j, n)\n",
    "print('aj_old=', alphas[j], 'aj_new=', aj)\n",
    "L, H = LH(Y[i], Y[j], alphas[i], aj)\n",
    "aj = clip_alpha_j(aj, L, H)\n",
    "print('L=', L, 'H=', H, 'aj_clipped=', aj)"
   ]
  },
  {
   "cell_type": "markdown",
   "metadata": {},
   "source": [
    "### alpha_i (eq 16)"
   ]
  },
  {
   "cell_type": "markdown",
   "metadata": {},
   "source": [
    "<a href=\"https://www.codecogs.com/eqnedit.php?latex=\\alpha&space;_{i}:=\\alpha&space;_{i}&plus;y^{\\left&space;(&space;i&space;\\right&space;)}y^{\\left&space;(&space;j&space;\\right&space;)}\\left&space;(&space;\\alpha&space;_{j}^{\\left&space;(&space;old&space;\\right&space;)}&space;-\\alpha&space;_{j}\\right&space;)\" target=\"_blank\"><img src=\"https://latex.codecogs.com/gif.latex?\\alpha&space;_{i}:=\\alpha&space;_{i}&plus;y^{\\left&space;(&space;i&space;\\right&space;)}y^{\\left&space;(&space;j&space;\\right&space;)}\\left&space;(&space;\\alpha&space;_{j}^{\\left&space;(&space;old&space;\\right&space;)}&space;-\\alpha&space;_{j}\\right&space;)\" title=\"\\alpha _{i}:=\\alpha _{i}+y^{\\left ( i \\right )}y^{\\left ( j \\right )}\\left ( \\alpha _{j}^{\\left ( old \\right )} -\\alpha _{j}\\right )\" /></a>"
   ]
  },
  {
   "cell_type": "code",
   "execution_count": 16,
   "metadata": {},
   "outputs": [
    {
     "name": "stdout",
     "output_type": "stream",
     "text": [
      "aj_old= 0.0 aj_new= 0.05525734730548922\n",
      "L= 0.05525734730548922 H= 0.6 aj_clipped= 0.05525734730548922\n",
      "ai_old= 0.0 ai_new= 0.05525734730548922\n"
     ]
    }
   ],
   "source": [
    "def alpha_i(ai, aj_old, aj, yi, yj):\n",
    "    return ai + (yi * yj * (aj_old - aj))\n",
    "\n",
    "i, j = 0, M-1\n",
    "Xi, Xj, Yi, Yj = X_m[i], X_m[j], Y[i], Y[j]\n",
    "err_i = Err(Xi, Yi, X_m, Y, alphas, bias)\n",
    "err_j = Err(Xj, Yj, X_m, Y, alphas, bias)\n",
    "n = n_den(Xi, Xj)\n",
    "aj = alpha_j(alphas[j], Yj, err_i, err_j, n)\n",
    "print('aj_old=', alphas[j], 'aj_new=', aj)\n",
    "L, H = LH(Y[i], Y[j], alphas[i], aj)\n",
    "aj = clip_alpha_j(aj, L, H)\n",
    "print('L=', L, 'H=', H, 'aj_clipped=', aj)\n",
    "ai = alpha_i(alphas[i], alphas[j], aj, Yi, Yj)\n",
    "print('ai_old=', alphas[i], 'ai_new=', ai)"
   ]
  },
  {
   "cell_type": "markdown",
   "metadata": {},
   "source": [
    "### b1, b2, b (eq 17-19)"
   ]
  },
  {
   "cell_type": "markdown",
   "metadata": {},
   "source": [
    "<a href=\"https://www.codecogs.com/eqnedit.php?latex=b_{1}=b-E_{i}-y^{\\left&space;(&space;i&space;\\right&space;)}\\left&space;(\\alpha&space;_{i}-\\alpha&space;_{i}^{\\left&space;(&space;old&space;\\right&space;)}&space;\\right&space;)\\left&space;\\langle&space;x^{\\left&space;(&space;i&space;\\right&space;)},x^{\\left&space;(&space;i&space;\\right&space;)}&space;\\right&space;\\rangle-y^{\\left&space;(&space;j&space;\\right&space;)}\\left&space;(&space;\\alpha&space;_{j}-\\alpha&space;_{j}^{\\left&space;(&space;old&space;\\right&space;)}&space;\\right&space;)\\left&space;\\langle&space;x^{\\left&space;(&space;i&space;\\right&space;)},x^{\\left&space;(&space;j&space;\\right&space;)}&space;\\right&space;\\rangle\" target=\"_blank\"><img src=\"https://latex.codecogs.com/gif.latex?b_{1}=b-E_{i}-y^{\\left&space;(&space;i&space;\\right&space;)}\\left&space;(\\alpha&space;_{i}-\\alpha&space;_{i}^{\\left&space;(&space;old&space;\\right&space;)}&space;\\right&space;)\\left&space;\\langle&space;x^{\\left&space;(&space;i&space;\\right&space;)},x^{\\left&space;(&space;i&space;\\right&space;)}&space;\\right&space;\\rangle-y^{\\left&space;(&space;j&space;\\right&space;)}\\left&space;(&space;\\alpha&space;_{j}-\\alpha&space;_{j}^{\\left&space;(&space;old&space;\\right&space;)}&space;\\right&space;)\\left&space;\\langle&space;x^{\\left&space;(&space;i&space;\\right&space;)},x^{\\left&space;(&space;j&space;\\right&space;)}&space;\\right&space;\\rangle\" title=\"b_{1}=b-E_{i}-y^{\\left ( i \\right )}\\left (\\alpha _{i}-\\alpha _{i}^{\\left ( old \\right )} \\right )\\left \\langle x^{\\left ( i \\right )},x^{\\left ( i \\right )} \\right \\rangle-y^{\\left ( j \\right )}\\left ( \\alpha _{j}-\\alpha _{j}^{\\left ( old \\right )} \\right )\\left \\langle x^{\\left ( i \\right )},x^{\\left ( j \\right )} \\right \\rangle\" /></a>"
   ]
  },
  {
   "cell_type": "code",
   "execution_count": 17,
   "metadata": {},
   "outputs": [],
   "source": [
    "def b1(Xi, Xj, Yi, Yj, ai_old, ai, aj_old, aj, b, err_i, knl = k_lin):\n",
    "    return b - err_i - Yi * (ai - ai_old) * knl(Xi, Xi) - Yj * (aj - aj_old) * knl(Xi, Xj)"
   ]
  },
  {
   "cell_type": "markdown",
   "metadata": {},
   "source": [
    "<a href=\"https://www.codecogs.com/eqnedit.php?latex=b_{2}=b-E_{j}-y^{\\left&space;(&space;i&space;\\right&space;)}\\left&space;(\\alpha&space;_{i}-\\alpha&space;_{i}^{\\left&space;(&space;old&space;\\right&space;)}&space;\\right&space;)\\left&space;\\langle&space;x^{\\left&space;(&space;i&space;\\right&space;)},x^{\\left&space;(&space;j&space;\\right&space;)}&space;\\right&space;\\rangle-y^{\\left&space;(&space;j&space;\\right&space;)}\\left&space;(&space;\\alpha&space;_{j}-\\alpha&space;_{j}^{\\left&space;(&space;old&space;\\right&space;)}&space;\\right&space;)\\left&space;\\langle&space;x^{\\left&space;(&space;j&space;\\right&space;)},x^{\\left&space;(&space;j&space;\\right&space;)}&space;\\right&space;\\rangle\" target=\"_blank\"><img src=\"https://latex.codecogs.com/gif.latex?b_{2}=b-E_{j}-y^{\\left&space;(&space;i&space;\\right&space;)}\\left&space;(\\alpha&space;_{i}-\\alpha&space;_{i}^{\\left&space;(&space;old&space;\\right&space;)}&space;\\right&space;)\\left&space;\\langle&space;x^{\\left&space;(&space;i&space;\\right&space;)},x^{\\left&space;(&space;j&space;\\right&space;)}&space;\\right&space;\\rangle-y^{\\left&space;(&space;j&space;\\right&space;)}\\left&space;(&space;\\alpha&space;_{j}-\\alpha&space;_{j}^{\\left&space;(&space;old&space;\\right&space;)}&space;\\right&space;)\\left&space;\\langle&space;x^{\\left&space;(&space;j&space;\\right&space;)},x^{\\left&space;(&space;j&space;\\right&space;)}&space;\\right&space;\\rangle\" title=\"b_{2}=b-E_{j}-y^{\\left ( i \\right )}\\left (\\alpha _{i}-\\alpha _{i}^{\\left ( old \\right )} \\right )\\left \\langle x^{\\left ( i \\right )},x^{\\left ( j \\right )} \\right \\rangle-y^{\\left ( j \\right )}\\left ( \\alpha _{j}-\\alpha _{j}^{\\left ( old \\right )} \\right )\\left \\langle x^{\\left ( j \\right )},x^{\\left ( j \\right )} \\right \\rangle\" /></a>"
   ]
  },
  {
   "cell_type": "code",
   "execution_count": 18,
   "metadata": {},
   "outputs": [],
   "source": [
    "def b2(Xi, Xj, Yi, Yj, ai_old, ai, aj_old, aj, b, err_j, knl = k_lin):\n",
    "    return b - err_j - Yi * (ai - ai_old) * knl(Xi, Xj) - Yj * (aj - aj_old) * knl(Xj, Xj)"
   ]
  },
  {
   "cell_type": "markdown",
   "metadata": {},
   "source": [
    "<a href=\"https://www.codecogs.com/eqnedit.php?latex=b:=\\left\\{\\begin{matrix}&space;b_{1}&space;&&space;if\\;&space;0<\\alpha&space;_{i}<C&space;\\\\&space;b_{2}&space;&&space;if\\;&space;0<&space;\\alpha&space;_{j}<C\\\\&space;\\left&space;(b_{1}&plus;b_{2}&space;\\right&space;)/2&space;&&space;otherwise&space;\\end{matrix}\\right.\" target=\"_blank\"><img src=\"https://latex.codecogs.com/gif.latex?b:=\\left\\{\\begin{matrix}&space;b_{1}&space;&&space;if\\;&space;0<\\alpha&space;_{i}<C&space;\\\\&space;b_{2}&space;&&space;if\\;&space;0<&space;\\alpha&space;_{j}<C\\\\&space;\\left&space;(b_{1}&plus;b_{2}&space;\\right&space;)/2&space;&&space;otherwise&space;\\end{matrix}\\right.\" title=\"b:=\\left\\{\\begin{matrix} b_{1} & if\\; 0<\\alpha _{i}<C \\\\ b_{2} & if\\; 0< \\alpha _{j}<C\\\\ \\left (b_{1}+b_{2} \\right )/2 & otherwise \\end{matrix}\\right.\" /></a>"
   ]
  },
  {
   "cell_type": "code",
   "execution_count": 19,
   "metadata": {},
   "outputs": [],
   "source": [
    "def b(b1, b2, ai, aj):\n",
    "    if (ai > 0 and ai < C):\n",
    "        return b1\n",
    "    elif (aj > 0 and aj < C):\n",
    "        return b2\n",
    "    else:\n",
    "        return (b1 + b2)/2"
   ]
  },
  {
   "cell_type": "code",
   "execution_count": 20,
   "metadata": {},
   "outputs": [
    {
     "name": "stdout",
     "output_type": "stream",
     "text": [
      "aj_old= 0.0 aj_new= 0.05525734730548922\n",
      "L= 0.05525734730548922 H= 0.6 aj_clipped= 0.05525734730548922\n",
      "ai_old= 0.0 ai_new= 0.05525734730548922\n",
      "b1= -2.6334825719646275\n",
      "b2= -2.6334825719646275\n",
      "b= -2.6334825719646275\n"
     ]
    }
   ],
   "source": [
    "i, j = 0, M-1\n",
    "Xi, Xj, Yi, Yj = X_m[i], X_m[j], Y[i], Y[j]\n",
    "err_i = Err(Xi, Yi, X_m, Y, alphas, bias)\n",
    "err_j = Err(Xj, Yj, X_m, Y, alphas, bias)\n",
    "n = n_den(Xi, Xj)\n",
    "ai_old = alphas[i]\n",
    "aj_old = alphas[j]\n",
    "aj = alpha_j(aj_old, Yj, err_i, err_j, n)\n",
    "print('aj_old=', aj_old, 'aj_new=', aj)\n",
    "L, H = LH(Y[i], Y[j], ai_old, aj)\n",
    "aj = clip_alpha_j(aj, L, H)\n",
    "print('L=', L, 'H=', H, 'aj_clipped=', aj)\n",
    "ai = alpha_i(ai_old, aj_old, aj, Yi, Yj)\n",
    "print('ai_old=', ai_old, 'ai_new=', ai)\n",
    "\n",
    "b1_val = b1(Xi, Xj, Yi, Yj, ai_old, ai, aj_old, aj, bias, err_i)\n",
    "print('b1=', b1_val)\n",
    "b2_val = b2(Xi, Xj, Yi, Yj, ai_old, ai, aj_old, aj, bias, err_j)\n",
    "print('b2=', b2_val)\n",
    "b_val = b(b1_val, b2_val, ai, aj)\n",
    "print('b=', b_val)"
   ]
  },
  {
   "cell_type": "markdown",
   "metadata": {},
   "source": [
    "### select random j"
   ]
  },
  {
   "cell_type": "code",
   "execution_count": 21,
   "metadata": {},
   "outputs": [],
   "source": [
    "#select a j not equal to i\n",
    "def sel_rand_j(i):\n",
    "    j = randint(M) #select a random number j in the range 0..M-1\n",
    "    while (j==i): #while we got i as the random number, in which case j == i, we keep trying a different random number\n",
    "        j = randint(M) #try a different random number\n",
    "    return j #now we have a random number in the range 0..M that is not equal to i"
   ]
  },
  {
   "cell_type": "markdown",
   "metadata": {},
   "source": [
    "### <font color=blue>Simplified SMO</font>"
   ]
  },
  {
   "cell_type": "markdown",
   "metadata": {},
   "source": [
    "#### pseudo-code"
   ]
  },
  {
   "cell_type": "markdown",
   "metadata": {},
   "source": [
    "<img src=\"../assets/images/cs229-my-svm-notes-images/simplified-smo.png\">"
   ]
  },
  {
   "cell_type": "markdown",
   "metadata": {},
   "source": [
    "#### python code"
   ]
  },
  {
   "cell_type": "code",
   "execution_count": 22,
   "metadata": {},
   "outputs": [],
   "source": [
    "def simplified_smo(C, tol, max_passes, X_m, Y, knl = k_lin):\n",
    "    \n",
    "    #1 Initialize alphas, and beta\n",
    "    \n",
    "    #estimated lagrangian Multipliers\n",
    "    #most of the alphas will be close to zero, except for alphas of data points that are support vectors\n",
    "    a_m = np.zeros((M), dtype=float) #one multiplier for each data point\n",
    "\n",
    "    #bias of the dual problem\n",
    "    #in the primal problem, we have both w (weights) and b (bias).\n",
    "    #in the dual problem, w is replaced with alpha, but b remains.\n",
    "    b_val = 0.0\n",
    "    \n",
    "    #2 count number of passes after the alphas have converged\n",
    "    passes = 0\n",
    "    \n",
    "    #3 while alphas are converging, and a little beyond (max_passes beyond convergence)\n",
    "    while (passes < max_passes):\n",
    "        #3.1 number of alphas that changed.\n",
    "        #    if they are greater than zero, we reset passes to 0. (alphas have not converged yet)\n",
    "        #    if they are equal to zero, we increment passes up to max_passes, allowing alphas to converge further if they can.\n",
    "        num_changed_alphas = 0\n",
    "        \n",
    "        #3.2 loop over the dataset, trying to converge 2 alphas\n",
    "        for i in range(M):\n",
    "            \n",
    "            #3.2.1 calculate error between predicted label and actual label for data point i\n",
    "            err_i = Err(X_m[i], Y[i], X_m, Y, a_m, b_val, knl)\n",
    "            \n",
    "            #3.2.2 if the KKT conditions are met\n",
    "            if (kkt(Y[i], err_i, a_m[i])):\n",
    "                #3.2.2.1 select j != i randomly\n",
    "                j = sel_rand_j(i)\n",
    "                #3.2.2.2 calculate error between predicted label and actual label for data point j\n",
    "                err_j = Err(X_m[j], Y[j], X_m, Y, a_m, b_val, knl)\n",
    "                #3.2.2.3 save old alphas\n",
    "                ai_old, aj_old = a_m[i], a_m[j]\n",
    "                #3.2.2.4 compute L and H\n",
    "                L, H = LH(Y[i], Y[j], a_m[i], a_m[j])\n",
    "                #3.2.2.5 if L and H are the same, we try again with a different alpha_i\n",
    "                if (L == H):\n",
    "                    continue\n",
    "                #3.2.2.6 compute the denominator n\n",
    "                n = n_den(X_m[i], X_m[j], knl)\n",
    "                #3.2.2.7 if n == 0, we treat this as a case where we cannot make progress on this pair of alphas\n",
    "                if (n == 0):#TODO n==0 or > =0\n",
    "                    continue\n",
    "                #3.2.2.8 compute and clip the new value of alpha_j\n",
    "                a_m[j] = alpha_j(a_m[j], Y[j], err_i, err_j, n)\n",
    "                a_m[j] = clip_alpha_j(a_m[j], L, H)\n",
    "                #3.2.2.9 if alpha_j has converged, move to a new set of alphas\n",
    "                if abs(a_m[j] - aj_old) < pow(10, -5): #has alpha_j converged? #TODO abs\n",
    "                    continue\n",
    "                #3.2.2.10 determine value of alpha_i\n",
    "                a_m[i] = alpha_i(ai_old, aj_old, a_m[j], Y[i], Y[j]) # ai = ai + yi*yj*(aj_old - aj)\n",
    "                #3.2.2.11 compute b1 and b2\n",
    "                b1_val = b1(X_m[i], X_m[j], Y[i], Y[j], ai_old, a_m[i], aj_old, a_m[j], b_val, err_i)\n",
    "                b2_val = b2(X_m[i], X_m[j], Y[i], Y[j], ai_old, a_m[i], aj_old, a_m[j], b_val, err_j)\n",
    "                #3.2.2.12 compute b\n",
    "                b_val = b(b1_val, b2_val, a_m[i], a_m[j])\n",
    "                #3.2.2.13 increment the number of alphas changed\n",
    "                num_changed_alphas += 1\n",
    "            #end if 3.2.2\n",
    "        #end for 3.2\n",
    "        \n",
    "        #3.3 if no alphas changed, increment passes a little beyond convergence\n",
    "        if (num_changed_alphas == 0):\n",
    "            passes += 1\n",
    "        else: #some alphas changed, so we reset passes\n",
    "              # and start incrementing num_changed_alphas again when alphas begin to converge\n",
    "            passes = 0\n",
    "            \n",
    "        print('Number of lagrange multipliers still converging:', num_changed_alphas)\n",
    "            \n",
    "    #end while 3\n",
    "    \n",
    "    #return the converged alphas (lagrange multipliers), and the threshold (beta) for the solution\n",
    "    return a_m, b_val"
   ]
  },
  {
   "cell_type": "markdown",
   "metadata": {},
   "source": [
    "### Learn"
   ]
  },
  {
   "cell_type": "code",
   "execution_count": 23,
   "metadata": {},
   "outputs": [
    {
     "name": "stdout",
     "output_type": "stream",
     "text": [
      "Number of lagrange multipliers still converging: 7\n",
      "Number of lagrange multipliers still converging: 6\n",
      "Number of lagrange multipliers still converging: 3\n",
      "Number of lagrange multipliers still converging: 6\n",
      "Number of lagrange multipliers still converging: 8\n",
      "Number of lagrange multipliers still converging: 4\n",
      "Number of lagrange multipliers still converging: 1\n",
      "Number of lagrange multipliers still converging: 1\n",
      "Number of lagrange multipliers still converging: 2\n",
      "Number of lagrange multipliers still converging: 0\n",
      "Number of lagrange multipliers still converging: 0\n",
      "Number of lagrange multipliers still converging: 0\n",
      "Number of lagrange multipliers still converging: 3\n",
      "Number of lagrange multipliers still converging: 1\n",
      "Number of lagrange multipliers still converging: 2\n",
      "Number of lagrange multipliers still converging: 2\n",
      "Number of lagrange multipliers still converging: 2\n",
      "Number of lagrange multipliers still converging: 2\n",
      "Number of lagrange multipliers still converging: 0\n",
      "Number of lagrange multipliers still converging: 2\n",
      "Number of lagrange multipliers still converging: 2\n",
      "Number of lagrange multipliers still converging: 0\n",
      "Number of lagrange multipliers still converging: 0\n",
      "Number of lagrange multipliers still converging: 1\n",
      "Number of lagrange multipliers still converging: 1\n",
      "Number of lagrange multipliers still converging: 4\n",
      "Number of lagrange multipliers still converging: 2\n",
      "Number of lagrange multipliers still converging: 0\n",
      "Number of lagrange multipliers still converging: 1\n",
      "Number of lagrange multipliers still converging: 3\n",
      "Number of lagrange multipliers still converging: 2\n",
      "Number of lagrange multipliers still converging: 1\n",
      "Number of lagrange multipliers still converging: 0\n",
      "Number of lagrange multipliers still converging: 1\n",
      "Number of lagrange multipliers still converging: 1\n",
      "Number of lagrange multipliers still converging: 1\n",
      "Number of lagrange multipliers still converging: 1\n",
      "Number of lagrange multipliers still converging: 1\n",
      "Number of lagrange multipliers still converging: 0\n",
      "Number of lagrange multipliers still converging: 0\n",
      "Number of lagrange multipliers still converging: 0\n",
      "Number of lagrange multipliers still converging: 0\n",
      "Number of lagrange multipliers still converging: 0\n"
     ]
    }
   ],
   "source": [
    "a_m, b_val = simplified_smo(C, tol, max_passes, X_m, Y)"
   ]
  },
  {
   "cell_type": "markdown",
   "metadata": {},
   "source": [
    "#### <font color=magenta>Support Vectors<font>"
   ]
  },
  {
   "cell_type": "code",
   "execution_count": 31,
   "metadata": {},
   "outputs": [
    {
     "name": "stdout",
     "output_type": "stream",
     "text": [
      "Number of Support Vectors: 12\n",
      "Support Vectors:\n",
      " [[4.01672464 4.95910969]\n",
      " [4.58939644 6.24781842]\n",
      " [6.42969753 4.23687801]\n",
      " [3.35352254 4.06678074]\n",
      " [5.29936958 3.58851751]\n",
      " [9.47171399 8.02614293]\n",
      " [7.07618927 7.11401766]\n",
      " [7.76384263 7.68750358]\n",
      " [6.44359498 6.87073672]\n",
      " [5.55611474 7.46208598]\n",
      " [6.86536742 9.13082197]\n",
      " [6.66468045 8.32477016]]\n",
      "Alphas:\n",
      " [0.10383806 0.6        0.6        0.02436853 0.50294886 0.15664808\n",
      " 0.35682867 0.6        0.03845793 0.40089538 0.16180494 0.11652045]\n"
     ]
    }
   ],
   "source": [
    "#support vectors information\n",
    "sv_ind = np.nonzero(a_m) #alpha indices\n",
    "sv_a_m = a_m[sv_ind] #alphas\n",
    "sv_X_m = X_m[sv_ind] #vectors\n",
    "sv_Y = Y[sv_ind] #class\n",
    "\n",
    "print('Number of Support Vectors:', len(sv_a_m))\n",
    "print('Support Vectors:\\n', sv_X_m)\n",
    "print('Alphas:\\n', sv_a_m)"
   ]
  },
  {
   "cell_type": "markdown",
   "metadata": {},
   "source": [
    "#### Plot the Support vectors"
   ]
  },
  {
   "cell_type": "code",
   "execution_count": 25,
   "metadata": {},
   "outputs": [
    {
     "data": {
      "text/plain": [
       "<AxesSubplot:xlabel='X1', ylabel='X2'>"
      ]
     },
     "execution_count": 25,
     "metadata": {},
     "output_type": "execute_result"
    },
    {
     "data": {
      "image/png": "[encoded data removed]",
      "text/plain": [
       "<Figure size 432x288 with 1 Axes>"
      ]
     },
     "metadata": {
      "needs_background": "light"
     },
     "output_type": "display_data"
    }
   ],
   "source": [
    "#color/hue of support vectors is\n",
    "sv_hue = 4 #some value other than -1, +1 used for class labels\n",
    "svecs = [y if ai == 0 else sv_hue for ai, y in zip(a_m, df['Y'].to_list())]\n",
    "df['SV'] = svecs\n",
    "\n",
    "#scatter plot of data points\n",
    "#class column Y is passed in as hue\n",
    "sns.scatterplot(x=cols[0], y=cols[1], hue='SV', data=df)"
   ]
  },
  {
   "cell_type": "markdown",
   "metadata": {},
   "source": [
    "## Prediction"
   ]
  },
  {
   "cell_type": "markdown",
   "metadata": {},
   "source": [
    "### Generate Data\n",
    "Gaussian clusters in 2D numpy arrays"
   ]
  },
  {
   "cell_type": "code",
   "execution_count": 26,
   "metadata": {},
   "outputs": [],
   "source": [
    "X_m, Y = generate_X_m_and_Y(M, K, n_features, loc_scale) #generate test data points"
   ]
  },
  {
   "cell_type": "markdown",
   "metadata": {},
   "source": [
    "### Predict"
   ]
  },
  {
   "cell_type": "code",
   "execution_count": 27,
   "metadata": {},
   "outputs": [],
   "source": [
    "Y_pred = [fx(X_m[i], sv_X_m, sv_Y, sv_a_m, b_val) for i in range(M)] #predict (margin of) testing data\n",
    "Y_pred_class = [-1 if y < 0 else 1 for y in Y_pred] #decision based on predicted margin"
   ]
  },
  {
   "cell_type": "markdown",
   "metadata": {},
   "source": [
    "### Predicted X_m, Y in DataFrame"
   ]
  },
  {
   "cell_type": "code",
   "execution_count": 28,
   "metadata": {
    "scrolled": true
   },
   "outputs": [
    {
     "data": {
      "text/html": [
       "<div>\n",
       "<style scoped>\n",
       "    .dataframe tbody tr th:only-of-type {\n",
       "        vertical-align: middle;\n",
       "    }\n",
       "\n",
       "    .dataframe tbody tr th {\n",
       "        vertical-align: top;\n",
       "    }\n",
       "\n",
       "    .dataframe thead th {\n",
       "        text-align: right;\n",
       "    }\n",
       "</style>\n",
       "<table border=\"1\" class=\"dataframe\">\n",
       "  <thead>\n",
       "    <tr style=\"text-align: right;\">\n",
       "      <th></th>\n",
       "      <th>X1</th>\n",
       "      <th>X2</th>\n",
       "      <th>Y</th>\n",
       "      <th>Y_pred_margin</th>\n",
       "      <th>Y_pred_class</th>\n",
       "    </tr>\n",
       "  </thead>\n",
       "  <tbody>\n",
       "    <tr>\n",
       "      <th>59</th>\n",
       "      <td>7.878629</td>\n",
       "      <td>8.481838</td>\n",
       "      <td>1</td>\n",
       "      <td>2.833952</td>\n",
       "      <td>1</td>\n",
       "    </tr>\n",
       "    <tr>\n",
       "      <th>20</th>\n",
       "      <td>5.884862</td>\n",
       "      <td>4.078395</td>\n",
       "      <td>-1</td>\n",
       "      <td>-2.751176</td>\n",
       "      <td>-1</td>\n",
       "    </tr>\n",
       "    <tr>\n",
       "      <th>68</th>\n",
       "      <td>9.831908</td>\n",
       "      <td>10.121277</td>\n",
       "      <td>1</td>\n",
       "      <td>5.895153</td>\n",
       "      <td>1</td>\n",
       "    </tr>\n",
       "    <tr>\n",
       "      <th>57</th>\n",
       "      <td>7.449198</td>\n",
       "      <td>7.206902</td>\n",
       "      <td>1</td>\n",
       "      <td>1.336733</td>\n",
       "      <td>1</td>\n",
       "    </tr>\n",
       "    <tr>\n",
       "      <th>81</th>\n",
       "      <td>6.443595</td>\n",
       "      <td>6.870737</td>\n",
       "      <td>1</td>\n",
       "      <td>0.218461</td>\n",
       "      <td>1</td>\n",
       "    </tr>\n",
       "    <tr>\n",
       "      <th>24</th>\n",
       "      <td>4.582161</td>\n",
       "      <td>4.861206</td>\n",
       "      <td>-1</td>\n",
       "      <td>-3.101826</td>\n",
       "      <td>-1</td>\n",
       "    </tr>\n",
       "    <tr>\n",
       "      <th>65</th>\n",
       "      <td>7.291804</td>\n",
       "      <td>8.876164</td>\n",
       "      <td>1</td>\n",
       "      <td>2.713573</td>\n",
       "      <td>1</td>\n",
       "    </tr>\n",
       "    <tr>\n",
       "      <th>1</th>\n",
       "      <td>5.773598</td>\n",
       "      <td>6.060365</td>\n",
       "      <td>-1</td>\n",
       "      <td>-1.055102</td>\n",
       "      <td>-1</td>\n",
       "    </tr>\n",
       "    <tr>\n",
       "      <th>8</th>\n",
       "      <td>3.778248</td>\n",
       "      <td>4.542449</td>\n",
       "      <td>-1</td>\n",
       "      <td>-4.040887</td>\n",
       "      <td>-1</td>\n",
       "    </tr>\n",
       "    <tr>\n",
       "      <th>51</th>\n",
       "      <td>8.768240</td>\n",
       "      <td>8.190470</td>\n",
       "      <td>1</td>\n",
       "      <td>3.292608</td>\n",
       "      <td>1</td>\n",
       "    </tr>\n",
       "  </tbody>\n",
       "</table>\n",
       "</div>"
      ],
      "text/plain": [
       "          X1         X2  Y  Y_pred_margin  Y_pred_class\n",
       "59  7.878629   8.481838  1       2.833952             1\n",
       "20  5.884862   4.078395 -1      -2.751176            -1\n",
       "68  9.831908  10.121277  1       5.895153             1\n",
       "57  7.449198   7.206902  1       1.336733             1\n",
       "81  6.443595   6.870737  1       0.218461             1\n",
       "24  4.582161   4.861206 -1      -3.101826            -1\n",
       "65  7.291804   8.876164  1       2.713573             1\n",
       "1   5.773598   6.060365 -1      -1.055102            -1\n",
       "8   3.778248   4.542449 -1      -4.040887            -1\n",
       "51  8.768240   8.190470  1       3.292608             1"
      ]
     },
     "execution_count": 28,
     "metadata": {},
     "output_type": "execute_result"
    }
   ],
   "source": [
    "df = create_df_from_array(X_m, Y, n_features, cols) #create test dataframe\n",
    "df['Y_pred_margin'] = Y_pred #append the prediction margin column\n",
    "df['Y_pred_class'] = Y_pred_class #append the class\n",
    "df.sample(n = 10)"
   ]
  },
  {
   "cell_type": "code",
   "execution_count": 29,
   "metadata": {},
   "outputs": [
    {
     "data": {
      "text/plain": [
       "<AxesSubplot:xlabel='X1', ylabel='X2'>"
      ]
     },
     "execution_count": 29,
     "metadata": {},
     "output_type": "execute_result"
    },
    {
     "data": {
      "image/png": "[encoded data removed]",
      "text/plain": [
       "<Figure size 432x288 with 1 Axes>"
      ]
     },
     "metadata": {
      "needs_background": "light"
     },
     "output_type": "display_data"
    }
   ],
   "source": [
    "#scatter plot of data points\n",
    "#class column Y is passed in as hue\n",
    "sns.scatterplot(x=cols[0], y=cols[1], hue='Y_pred_class', data=df)"
   ]
  },
  {
   "cell_type": "markdown",
   "metadata": {},
   "source": [
    "### <font color=magenta>Prediction Accuracy</font>"
   ]
  },
  {
   "cell_type": "code",
   "execution_count": 30,
   "metadata": {},
   "outputs": [
    {
     "name": "stdout",
     "output_type": "stream",
     "text": [
      "Accuracy: 98.0 %\n"
     ]
    }
   ],
   "source": [
    "Y_pred_corr = (Y==Y_pred_class)\n",
    "num_corr = len(Y_pred_corr[Y_pred_corr == True])\n",
    "print('Accuracy:', (num_corr/M)*100, '%')"
   ]
  },
  {
   "cell_type": "markdown",
   "metadata": {},
   "source": [
    "## Sidebar - <font color=blue>Primal to Dual Problem</font>"
   ]
  },
  {
   "cell_type": "markdown",
   "metadata": {},
   "source": [
    "### Converting <font color=red>non-convex</font> primal problem to <font color=orange>convex</font> dual problem with <font color=orange>affine constraints</font>, and then to convex dual problem with <font color=green>no constraints</font> using <font color=magenta>Lagrange Multipliers</font>."
   ]
  },
  {
   "cell_type": "markdown",
   "metadata": {},
   "source": [
    "Refer CS229 notes while understanding my notes below.\n",
    "- Stanford CS229 Course Notes on SVM\n",
    "    * URL: http://cs229.stanford.edu/summer2020/cs229-notes3.pdf"
   ]
  },
  {
   "cell_type": "markdown",
   "metadata": {},
   "source": [
    "### Functional Margin"
   ]
  },
  {
   "cell_type": "markdown",
   "metadata": {},
   "source": [
    "- <font color=magenta>10-315 CMU Qatar</font> - Fall 2019 - Introduction to Machine Learning\n",
    "    * https://web2.qatar.cmu.edu/~gdicaro/10315/lectures/315-F19-14-SVM-1.pdf\n",
    "<img src=\"../assets/images/cs229-my-svm-notes-images/func_margin.png\">"
   ]
  },
  {
   "cell_type": "markdown",
   "metadata": {},
   "source": [
    "<img src=\"../assets/images/cs229-my-svm-notes-images/0001.jpg\">"
   ]
  },
  {
   "cell_type": "markdown",
   "metadata": {},
   "source": [
    "### Geometric Margin"
   ]
  },
  {
   "cell_type": "markdown",
   "metadata": {},
   "source": [
    "<img src=\"../assets/images/cs229-my-svm-notes-images/geom_margin.png\">"
   ]
  },
  {
   "cell_type": "markdown",
   "metadata": {},
   "source": [
    "<img src=\"../assets/images/cs229-my-svm-notes-images/0002.jpg\">"
   ]
  },
  {
   "cell_type": "markdown",
   "metadata": {},
   "source": [
    "### Optimization Problem"
   ]
  },
  {
   "cell_type": "markdown",
   "metadata": {},
   "source": [
    "<img src=\"../assets/images/cs229-my-svm-notes-images/0003.jpg\">"
   ]
  },
  {
   "cell_type": "markdown",
   "metadata": {},
   "source": [
    "### Lagrangian Duality"
   ]
  },
  {
   "cell_type": "markdown",
   "metadata": {},
   "source": [
    "<img src=\"../assets/images/cs229-my-svm-notes-images/0004.jpg\">"
   ]
  },
  {
   "cell_type": "markdown",
   "metadata": {},
   "source": [
    "### Optimal Margin Classifiers"
   ]
  },
  {
   "cell_type": "markdown",
   "metadata": {},
   "source": [
    "<img src=\"../assets/images/cs229-my-svm-notes-images/0005.jpg\">"
   ]
  },
  {
   "cell_type": "markdown",
   "metadata": {},
   "source": [
    "### Kernels"
   ]
  },
  {
   "cell_type": "markdown",
   "metadata": {},
   "source": [
    "<img src=\"../assets/images/cs229-my-svm-notes-images/0006.jpg\">"
   ]
  },
  {
   "cell_type": "markdown",
   "metadata": {},
   "source": [
    "### Regularization, and SMO"
   ]
  },
  {
   "cell_type": "markdown",
   "metadata": {},
   "source": [
    "<img src=\"../assets/images/cs229-my-svm-notes-images/0007.jpg\">"
   ]
  }
 ],
 "metadata": {
  "kernelspec": {
   "display_name": "Python 3",
   "language": "python",
   "name": "python3"
  },
  "language_info": {
   "codemirror_mode": {
    "name": "ipython",
    "version": 3
   },
   "file_extension": ".py",
   "mimetype": "text/x-python",
   "name": "python",
   "nbconvert_exporter": "python",
   "pygments_lexer": "ipython3",
   "version": "3.7.9"
  }
 },
 "nbformat": 4,
 "nbformat_minor": 4
}
