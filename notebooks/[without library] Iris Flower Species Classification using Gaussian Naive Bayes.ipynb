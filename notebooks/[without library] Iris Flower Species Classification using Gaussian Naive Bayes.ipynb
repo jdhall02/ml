{
 "cells": [
  {
   "cell_type": "markdown",
   "metadata": {},
   "source": [
    "# [without library] <font color=\"orange\">Iris Flower Species Classification using Gaussian Naive Bayes</font>"
   ]
  },
  {
   "cell_type": "markdown",
   "metadata": {},
   "source": [
    "### Based on - [2010] Generative and Discriminative Classifiers : Naive Bayes and Logistic Regression - <font color=magenta>Tom Mitchell</font>"
   ]
  },
  {
   "cell_type": "markdown",
   "metadata": {},
   "source": [
    "<img src=\"../assets/images/iris-gnb/gnb.png\">"
   ]
  },
  {
   "cell_type": "markdown",
   "metadata": {},
   "source": [
    "## Introduction"
   ]
  },
  {
   "cell_type": "markdown",
   "metadata": {},
   "source": [
    "This notebook implements <font color=blue>Gaussian Naive Bayes</font>. It performs <font color=blue>multi-class classification</font> on Iris Flower Species dataset consisting of four attributes and belonging to three classes. There are 300 data points that we divide into training and test data. The prediction accuracy is <font color=blue>94-100%</font>.\n",
    "\n",
    "Resources:\n",
    "- [CMU Qatar Lecture Notes - Naive Bayes - Gianni A. Di Caro](https://web2.qatar.cmu.edu/~gdicaro/10315/lectures/315-F19-6-NaiveBayes.pdf)\n",
    "- [CMU Machine Learning 10-701 - Pradeep Ravikumar](http://www.cs.cmu.edu/~pradeepr/courses/701/2018-fall/Fall2018Slides/NaiveBayes.pdf)\n",
    "- [CMU Machine Learning 10-701 - Tom Mitchell](https://www.cs.cmu.edu/~tom/10701_sp11/slides/LR_1-27-2011.pdf)\n",
    "- [How is Naive Bayes a Linear Classifier? - stats.stackexchange](https://stats.stackexchange.com/questions/142215/how-is-naive-bayes-a-linear-classifier#:~:text=In%20general%20the%20naive%20Bayes,in%20a%20particular%20feature%20space.)\n",
    "- [Naive Bayes classifier - Wikipedia](https://en.wikipedia.org/wiki/Naive_Bayes_classifier#Bernoulli_na%C3%AFve_Bayes)\n",
    "\n",
    "Towards the end, I have included a <font color=blue>sidebar</font> on the <font color=magenta>comparison of Naive Bayes and Logistic Regression</font>. "
   ]
  },
  {
   "cell_type": "markdown",
   "metadata": {},
   "source": [
    "## Taxonomy and Notes"
   ]
  },
  {
   "cell_type": "markdown",
   "metadata": {},
   "source": [
    "> Probabilistic, Generative\n",
    "\n",
    "Naive Bayes is a <font color=blue>probabilistic</font> classifier. It learns the underlying <font color=blue>joint distribution P(X, Y)</font> by learning the <font color=blue>likelihood distribution P(X\\|Y)</font> (a.k.a __class-conditonal__) and the <font color=blue>prior distribution P(Y)</font> (a.k.a __class-prior__). The distribution learnt can be used to generate data. Hence, it is a <font color=blue>generative</font> classifier. Naive bayes does not model the class decision boundaries, but instead models the distribution of the observed data. In Generative Modeling, we learn a full probabilistic model, the joint distribution P(X, Y). We assume a parametric form of the underlying probability distribution, and estimate those parameters from the observed data.\n",
    "\n",
    "> Parametric\n",
    "\n",
    "Naive Bayes is <font color=blue>parametric</font> since the distribution assumed to model the likelihood (say, gaussian, multinomial, or bernoulli) have parameters. Gaussian distribution has parameters for mean and standard deviation.\n",
    "\n",
    "> Linear\n",
    "\n",
    "In general, the Naive Bayes classifier is not linear. But, it becomes <font color=blue>linear, if the likelihood is exponential</font>. This is because the __log-likelihood becomes linear in the log-space__. <font color=blue>Gaussian</font>, <font color=blue>Multinomial</font>, or <font color=blue>Bernoulli</font> distributions are all from the exponential family of distributions, so Naive Bayes can be applied to data exhibiting these distributions. Under the assumption of an exponential distribution, Bernoulli Naive Bayes maps to Binomial Logistic Regression, and Multinomial Naive Bayes maps to Multinomial Logistic Regression. \n",
    "\n",
    "> Event Model\n",
    "\n",
    "The assumptions on distributions of features are called the <font color=blue>event model</font> of the Naive Bayes classifier.\n",
    "\n",
    "> Event Model - Continuous Data (MNIST Digit Recognition, Iris Flower Species Classification)\n",
    "\n",
    "When dealing with __continuous data__, a typical __assumption__ is that the continuous values associated with each class are distributed according to a <font color=blue>normal (or Gaussian) distribution</font>. The Iris Flower Species dataset has attributes that exhibit gaussian distribution.\n",
    "\n",
    "When assuming Gaussian class-conditionals, <font color=blue>if all class-conditional gaussians have the same covariance</font>, then the quadratic terms cancel out and we are left with a <font color=blue>linear</font> form. To take an example of MNIST dataset, if we asume that the variance across digits is the same, then we have a linear model.\n",
    "\n",
    "The __class prior__ distribution has to be a <font color=blue>discrete distribution</font> (say, multinoulli) that distributes the probability of a data point belonging to class among K possible classes.\n",
    "\n",
    "Note: Sometimes the distribution of class-conditional marginal densities is __far from normal__. In these cases, <font color=blue>kernel density estimation</font> can be used for a more realistic estimate of the marginal densities of each class.\n",
    "\n",
    "> Event Model - Discrete Data (Text Classification)\n",
    "\n",
    "For __discrete features__ (document classification), Multinomial and Bernoulli distributions are popular. With a multinomial event model, features represent frequencies of events (say, count of word occurrences). With a bernoulli event model, features represent presence or absence of events (say, presence or absence of words).\n",
    "\n",
    "> Binary and Multiclass\n",
    "\n",
    "Naive Bayes can be both <font color=blue>binary and multiclass</font>.\n",
    "\n",
    "> Summary\n",
    "\n",
    "In summary, Naive Bayes is:\n",
    "- Probabilistic\n",
    "- Generative\n",
    "- Binary and Multiclass\n",
    "- Linear\n",
    "- Parametric"
   ]
  },
  {
   "cell_type": "markdown",
   "metadata": {},
   "source": [
    "<img src=\"../assets/images/iris-gnb/mmap_nb.png\">"
   ]
  },
  {
   "cell_type": "markdown",
   "metadata": {},
   "source": [
    "> Why Naive?\n",
    "\n",
    "Naive Bayes makes an assumption that the input attributes are independent of each other. This results in a <font color=blue>significant reduction in the number of parameters</font> the model needs to learn. This is because, since each attribute is assumed to be influenced only by the class its data poin belongs to, the model only has P(X_i\\|Y_k) terms, and no P(X_i\\|X_j), P(X_i\\|X_j, X_k), etc terms. This is the reason the model is called '<font color=blue>Naive</font>' because it is seldom the case that the input attributes do not influence each other. Still, Naive Bayes has proven to be effective.\n",
    "\n",
    "Due to the modeling assumptions of attributes being independent, Naive Bayes model introduces <font color=red>a lot more inductive bias</font> as compared to Logistic Regression. This also results in  <font color=green>faster convergence</font> of order O(log N) (N is the number of data points). The fast convergence can perhaps be on  <font color=red>less accurate</font> estimates.\n",
    "\n",
    "> Algebraically solved Closed-Form\n",
    "\n",
    "Naive Bayes class-conditional probabilities (<font color=blue>maximum likelihood estimation</font>) can be deduced analytically. Also, the class-priors can be deduced using frequentist methods. So, there is a <font color=blue>closed-form</font> solution to Naive Bayes. And, hence, we <font color=blue>do not need a numerical method like gradient descent</font>."
   ]
  },
  {
   "cell_type": "markdown",
   "metadata": {},
   "source": [
    "## Imports"
   ]
  },
  {
   "cell_type": "code",
   "execution_count": 20,
   "metadata": {},
   "outputs": [],
   "source": [
    "import numpy as np\n",
    "import pandas as pd #input\n",
    "from numpy.random import rand\n",
    "from numpy import mean, std #mean and standard deviation for gaussian probabilities\n",
    "from scipy.stats import norm #gaussian probabilities\n",
    "from math import log # to calculate posterior probability\n",
    "import seaborn as sns #plotting\n",
    "import matplotlib.pyplot as plt #plotting\n",
    "%matplotlib inline"
   ]
  },
  {
   "cell_type": "markdown",
   "metadata": {},
   "source": [
    "## Data"
   ]
  },
  {
   "cell_type": "markdown",
   "metadata": {},
   "source": [
    "### Data Configuration"
   ]
  },
  {
   "cell_type": "code",
   "execution_count": 6,
   "metadata": {},
   "outputs": [],
   "source": [
    "class_colname = 'Species'"
   ]
  },
  {
   "cell_type": "markdown",
   "metadata": {},
   "source": [
    "#### Iris Flower Species"
   ]
  },
  {
   "cell_type": "code",
   "execution_count": 7,
   "metadata": {},
   "outputs": [],
   "source": [
    "f_data = '../input/iris-species/Iris.csv'\n",
    "f_cols = ['SepalLengthCm',  'SepalWidthCm',  'PetalLengthCm',  'PetalWidthCm', 'Species']"
   ]
  },
  {
   "cell_type": "markdown",
   "metadata": {},
   "source": [
    "### Read"
   ]
  },
  {
   "cell_type": "markdown",
   "metadata": {},
   "source": [
    "#### read the csv file"
   ]
  },
  {
   "cell_type": "code",
   "execution_count": 8,
   "metadata": {},
   "outputs": [],
   "source": [
    "#read the csv file\n",
    "df = pd.read_csv(f_data)"
   ]
  },
  {
   "cell_type": "markdown",
   "metadata": {},
   "source": [
    "#### drop unwanted columns"
   ]
  },
  {
   "cell_type": "code",
   "execution_count": 9,
   "metadata": {},
   "outputs": [],
   "source": [
    "#drop unwanted columns\n",
    "drop_cols = list(set(df.columns) - set(f_cols))\n",
    "df = df.drop(drop_cols, axis = 1)"
   ]
  },
  {
   "cell_type": "markdown",
   "metadata": {},
   "source": [
    "#### rename last column that supposedly has a class/label"
   ]
  },
  {
   "cell_type": "code",
   "execution_count": 10,
   "metadata": {},
   "outputs": [],
   "source": [
    "#rename the last column to 'class'\n",
    "cols = df.columns.to_list()\n",
    "cols[len(cols)-1] = class_colname\n",
    "df.columns = cols"
   ]
  },
  {
   "cell_type": "markdown",
   "metadata": {},
   "source": [
    "#### sanity check for data getting loaded"
   ]
  },
  {
   "cell_type": "code",
   "execution_count": 11,
   "metadata": {},
   "outputs": [
    {
     "data": {
      "text/html": [
       "<div>\n",
       "<style scoped>\n",
       "    .dataframe tbody tr th:only-of-type {\n",
       "        vertical-align: middle;\n",
       "    }\n",
       "\n",
       "    .dataframe tbody tr th {\n",
       "        vertical-align: top;\n",
       "    }\n",
       "\n",
       "    .dataframe thead th {\n",
       "        text-align: right;\n",
       "    }\n",
       "</style>\n",
       "<table border=\"1\" class=\"dataframe\">\n",
       "  <thead>\n",
       "    <tr style=\"text-align: right;\">\n",
       "      <th></th>\n",
       "      <th>SepalLengthCm</th>\n",
       "      <th>SepalWidthCm</th>\n",
       "      <th>PetalLengthCm</th>\n",
       "      <th>PetalWidthCm</th>\n",
       "      <th>Species</th>\n",
       "    </tr>\n",
       "  </thead>\n",
       "  <tbody>\n",
       "    <tr>\n",
       "      <th>44</th>\n",
       "      <td>5.1</td>\n",
       "      <td>3.8</td>\n",
       "      <td>1.9</td>\n",
       "      <td>0.4</td>\n",
       "      <td>Iris-setosa</td>\n",
       "    </tr>\n",
       "    <tr>\n",
       "      <th>87</th>\n",
       "      <td>6.3</td>\n",
       "      <td>2.3</td>\n",
       "      <td>4.4</td>\n",
       "      <td>1.3</td>\n",
       "      <td>Iris-versicolor</td>\n",
       "    </tr>\n",
       "    <tr>\n",
       "      <th>72</th>\n",
       "      <td>6.3</td>\n",
       "      <td>2.5</td>\n",
       "      <td>4.9</td>\n",
       "      <td>1.5</td>\n",
       "      <td>Iris-versicolor</td>\n",
       "    </tr>\n",
       "    <tr>\n",
       "      <th>4</th>\n",
       "      <td>5.0</td>\n",
       "      <td>3.6</td>\n",
       "      <td>1.4</td>\n",
       "      <td>0.2</td>\n",
       "      <td>Iris-setosa</td>\n",
       "    </tr>\n",
       "    <tr>\n",
       "      <th>76</th>\n",
       "      <td>6.8</td>\n",
       "      <td>2.8</td>\n",
       "      <td>4.8</td>\n",
       "      <td>1.4</td>\n",
       "      <td>Iris-versicolor</td>\n",
       "    </tr>\n",
       "  </tbody>\n",
       "</table>\n",
       "</div>"
      ],
      "text/plain": [
       "    SepalLengthCm  SepalWidthCm  PetalLengthCm  PetalWidthCm          Species\n",
       "44            5.1           3.8            1.9           0.4      Iris-setosa\n",
       "87            6.3           2.3            4.4           1.3  Iris-versicolor\n",
       "72            6.3           2.5            4.9           1.5  Iris-versicolor\n",
       "4             5.0           3.6            1.4           0.2      Iris-setosa\n",
       "76            6.8           2.8            4.8           1.4  Iris-versicolor"
      ]
     },
     "execution_count": 11,
     "metadata": {},
     "output_type": "execute_result"
    }
   ],
   "source": [
    "df.sample(5)"
   ]
  },
  {
   "cell_type": "markdown",
   "metadata": {},
   "source": [
    "#### visualize"
   ]
  },
  {
   "cell_type": "markdown",
   "metadata": {},
   "source": [
    "Note that the <font color=magenta>attributes exhibit gaussian distribution</font>."
   ]
  },
  {
   "cell_type": "code",
   "execution_count": 22,
   "metadata": {},
   "outputs": [],
   "source": [
    "def plot_features_violin(data):\n",
    "    plt.figure(figsize=(15,10))\n",
    "    plt.subplot(2,2,1)\n",
    "    sns.violinplot(data=data, x='Species',y='PetalLengthCm')\n",
    "    plt.subplot(2,2,2)\n",
    "    sns.violinplot(data=data, x='Species',y='PetalWidthCm')\n",
    "    plt.subplot(2,2,3)\n",
    "    sns.violinplot(data=data, x='Species',y='SepalLengthCm')\n",
    "    plt.subplot(2,2,4)\n",
    "    sns.violinplot(data=data, x='Species',y='SepalWidthCm')"
   ]
  },
  {
   "cell_type": "code",
   "execution_count": 24,
   "metadata": {},
   "outputs": [
    {
     "data": {
      "image/png": "[encoded data removed]",
      "text/plain": [
       "<Figure size 1080x720 with 4 Axes>"
      ]
     },
     "metadata": {
      "needs_background": "light"
     },
     "output_type": "display_data"
    }
   ],
   "source": [
    "plot_features_violin(df)"
   ]
  },
  {
   "cell_type": "markdown",
   "metadata": {},
   "source": [
    "## Model"
   ]
  },
  {
   "cell_type": "markdown",
   "metadata": {},
   "source": [
    "### Model Configuration"
   ]
  },
  {
   "cell_type": "code",
   "execution_count": 12,
   "metadata": {},
   "outputs": [],
   "source": [
    "train_ds_percent = 0.8"
   ]
  },
  {
   "cell_type": "markdown",
   "metadata": {},
   "source": [
    "### Training Algorithm"
   ]
  },
  {
   "cell_type": "markdown",
   "metadata": {},
   "source": [
    "<img src=\"../assets/images/iris-gnb/gnb_mean_std.png\">"
   ]
  },
  {
   "cell_type": "code",
   "execution_count": 13,
   "metadata": {},
   "outputs": [],
   "source": [
    "'''\n",
    "    return\n",
    "            classes: (list) of unique class names in the dataset,\n",
    "             got from the last column named class_colname.\n",
    "             \n",
    "            features: (list) of features (column names) in the dataset.\n",
    "             this excludes the last column which we expect it to have the class labels.\n",
    "             \n",
    "            prior: (1-d array) of dim num_classes\n",
    "            (prior probability of a set of features belonging to a class)\n",
    "            \n",
    "            mean_std: (3-d array) of dim num_classes x num_features x 2 (2: mean and std)\n",
    "            (mean and standard deviation for all features, given the class)\n",
    "            \n",
    "    arguments:\n",
    "    df: (dataframe) with features and class names (should have a 'class' column in addition to the feature columns).\n",
    "    class_colname: (string) provide suitable column name otherwise, using the class_colname argument.\n",
    "'''\n",
    "def train_gaussian_nb(df, class_colname='class'):\n",
    "    #number of classes\n",
    "    classes = df[class_colname].unique()\n",
    "    num_classes = len(df[class_colname].unique())\n",
    "    #number of features\n",
    "    features = df.columns[:-1]\n",
    "    num_features = len(features)\n",
    "    #number of data points\n",
    "    N = len(df)\n",
    "    \n",
    "    #data structures for priors and\n",
    "    # (mean, standard deviation) pairs for each feature and class\n",
    "    # to later calculate likelihood (conditional probability of feature given class)\n",
    "    prior = np.zeros(num_classes)\n",
    "    mean_std = np.zeros((num_classes, num_features, 2), dtype=float)\n",
    "    \n",
    "    #for each class...\n",
    "    for cls in range(num_classes):\n",
    "        #calculate prior probability of data point belonging to class cls\n",
    "        prior[cls] = len(df[df[class_colname]==classes[cls]]) / N\n",
    "\n",
    "        #to later calculate likelihood: conditional probability for all features, given class cls,\n",
    "        #we store the mean and standard deviation of all features, given class cls\n",
    "        for i_feature in range(num_features):\n",
    "            #store mean for i_feature, given cls\n",
    "            mean_std[cls][i_feature][0] = mean(df[df[class_colname]==classes[cls]].iloc[:, i_feature])\n",
    "            #store standard deviation for i_feature, given cls\n",
    "            mean_std[cls][i_feature][1] = std(df[df[class_colname]==classes[cls]].iloc[:, i_feature])\n",
    "            \n",
    "    return classes, features, prior, mean_std"
   ]
  },
  {
   "cell_type": "markdown",
   "metadata": {},
   "source": [
    "### Prediction Algorithm"
   ]
  },
  {
   "cell_type": "markdown",
   "metadata": {},
   "source": [
    "<a href=\"https://www.codecogs.com/eqnedit.php?latex=P\\left&space;(&space;X_{i}=x|Y=y_{k}&space;\\right&space;)=\\frac{1}{\\sigma&space;_{ik}\\sqrt{2\\pi&space;}}e^{\\frac{-\\left&space;(&space;x-\\mu&space;_{ik}&space;\\right&space;)^{2}}{2\\sigma&space;_{ik}^{2}}}\" target=\"_blank\"><img src=\"https://latex.codecogs.com/gif.latex?P\\left&space;(&space;X_{i}=x|Y=y_{k}&space;\\right&space;)=\\frac{1}{\\sigma&space;_{ik}\\sqrt{2\\pi&space;}}e^{\\frac{-\\left&space;(&space;x-\\mu&space;_{ik}&space;\\right&space;)^{2}}{2\\sigma&space;_{ik}^{2}}}\" title=\"P\\left ( X_{i}=x|Y=y_{k} \\right )=\\frac{1}{\\sigma _{ik}\\sqrt{2\\pi }}e^{\\frac{-\\left ( x-\\mu _{ik} \\right )^{2}}{2\\sigma _{ik}^{2}}}\" /></a>"
   ]
  },
  {
   "cell_type": "code",
   "execution_count": 14,
   "metadata": {},
   "outputs": [],
   "source": [
    "'''\n",
    "    return (integer) the (0-based) index of class to which the document belongs\n",
    "    \n",
    "    arguments:\n",
    "    num_classes: (int) number of classes\n",
    "    num_features: (int) number of features\n",
    "    prior: (1-d array) of dim num_classes\n",
    "           (prior probability of a set of features belonging to a class)\n",
    "    mean_std: (3-d array) of dim num_classes x num_features x 2 (2: mean and std)\n",
    "              (mean and standard deviation for all features, given the class)\n",
    "    x: (list) of features\n",
    "'''\n",
    "def apply_gaussian_naive_bayes(num_classes, num_features, prior, mean_std, x):\n",
    "    #initialize score for each class to zero \n",
    "    score = np.zeros((num_classes), dtype=float)\n",
    "    \n",
    "    #for each class...\n",
    "    for cls in range(num_classes):\n",
    "        #print('class:', cls)\n",
    "        \n",
    "        #for this class, add the log-prior probability to the score\n",
    "        score[cls] += log(prior[cls], 10) #log to the base 10\n",
    "        \n",
    "        #for each feature, add the log-likelihood to the score\n",
    "        for i_feature in range(num_features):\n",
    "            #print('feature', i_feature)\n",
    "            #calculate likelihood from the trained mean and standard deviation\n",
    "            mu = mean_std[cls][i_feature][0]\n",
    "            sigma = mean_std[cls][i_feature][1]\n",
    "            likelihood = norm(mu, sigma).pdf(x[i_feature])\n",
    "            #add the log-likelihood to the score\n",
    "            score[cls] += log(likelihood, 10) #log to the base 10\n",
    "    \n",
    "    #return the index of class with the maximum-a-posterior probability\n",
    "    return score.argmax()"
   ]
  },
  {
   "cell_type": "markdown",
   "metadata": {},
   "source": [
    "### Learn"
   ]
  },
  {
   "cell_type": "markdown",
   "metadata": {},
   "source": [
    "#### Divide data into Train and Test"
   ]
  },
  {
   "cell_type": "code",
   "execution_count": 15,
   "metadata": {},
   "outputs": [],
   "source": [
    "#mask a % of data for training, and the remaining for testing\n",
    "mask = rand(len(df)) < train_ds_percent\n",
    "df_train = df[mask]\n",
    "df_test = df[~mask]"
   ]
  },
  {
   "cell_type": "markdown",
   "metadata": {},
   "source": [
    "#### Learn"
   ]
  },
  {
   "cell_type": "code",
   "execution_count": 16,
   "metadata": {},
   "outputs": [],
   "source": [
    "#train the prior and likelihood on observed data df_train\n",
    "classes, features, prior, mean_std = train_gaussian_nb(df_train, class_colname)"
   ]
  },
  {
   "cell_type": "markdown",
   "metadata": {},
   "source": [
    "## Prediction"
   ]
  },
  {
   "cell_type": "markdown",
   "metadata": {},
   "source": [
    "### Predict"
   ]
  },
  {
   "cell_type": "code",
   "execution_count": 17,
   "metadata": {},
   "outputs": [],
   "source": [
    "#iterate over test dataset and count the number of correct and incorrect predictions\n",
    "count_correct, count_incorrect = 0, 0\n",
    "for index, row in df_test.iterrows():\n",
    "    #actual class\n",
    "    actual_cls = row[class_colname]\n",
    "    #predicted class\n",
    "    # input provided as row[:-1].to_list(), means, all columns except last, converted to a list\n",
    "    pred_cls = apply_gaussian_naive_bayes(len(classes), len(features), prior, mean_std, row[:-1].to_list())\n",
    "    if classes[pred_cls] == actual_cls:\n",
    "        count_correct += 1\n",
    "    else:\n",
    "        count_incorrect += 1\n",
    "    #print('(predicted, actual):', classes[pred_cls], row[class_colname])\n"
   ]
  },
  {
   "cell_type": "markdown",
   "metadata": {},
   "source": [
    "### <font color=magenta>Prediction Accuracy</font>"
   ]
  },
  {
   "cell_type": "code",
   "execution_count": 18,
   "metadata": {},
   "outputs": [
    {
     "name": "stdout",
     "output_type": "stream",
     "text": [
      "Correct:  36 Incorrect:  2\n",
      "Percentage of correct predictions:  94.73684210526316\n"
     ]
    }
   ],
   "source": [
    "print('Correct: ', count_correct, 'Incorrect: ', count_incorrect)\n",
    "print('Percentage of correct predictions: ', (count_correct * 100)/(count_correct + count_incorrect))"
   ]
  },
  {
   "cell_type": "markdown",
   "metadata": {},
   "source": [
    "## Sidebar - Comparison of Naive Bayes and Logistic Regression"
   ]
  },
  {
   "cell_type": "markdown",
   "metadata": {},
   "source": [
    "> [Generative and Discriminative Classifiers : Naive Bayes and Logistic Regression - <font color=magenta>Tom Mitchell</font>](https://www.cs.cmu.edu/~tom/mlbook/NBayesLogReg.pdf)"
   ]
  },
  {
   "cell_type": "markdown",
   "metadata": {},
   "source": [
    "### <font color=magenta>Same Parametric Form</font> (under attribute independence assumptions)"
   ]
  },
  {
   "cell_type": "markdown",
   "metadata": {},
   "source": [
    "The parametric form of P(Y\\|X) used by Logistic Regression is precisely the form implied by the assumptions of a Gaussian Naive Bayes clasifier."
   ]
  },
  {
   "cell_type": "markdown",
   "metadata": {},
   "source": [
    "<img src=\"../assets/images/iris-gnb/relation_gaussian_nb_to_logreg.png\">"
   ]
  },
  {
   "cell_type": "markdown",
   "metadata": {},
   "source": [
    "### <font color=magenta>Attribute Independence Assumption</font>; <font color=magenta>Convergence</font>; <font color=magenta>Input Data Size</font>"
   ]
  },
  {
   "cell_type": "markdown",
   "metadata": {},
   "source": [
    "<img src=\"../assets/images/iris-gnb/relation_gaussian_nb_to_logreg_indep_assump_and_convergence.png\">"
   ]
  },
  {
   "cell_type": "markdown",
   "metadata": {},
   "source": [
    "### <font color=magenta>Asymptotic Comparison</font>"
   ]
  },
  {
   "cell_type": "markdown",
   "metadata": {},
   "source": [
    "<img src=\"../assets/images/iris-gnb/gnb_logreg_asympto_comp.png\">"
   ]
  },
  {
   "cell_type": "markdown",
   "metadata": {},
   "source": [
    "### <font color=magenta>Summary</font>"
   ]
  },
  {
   "cell_type": "markdown",
   "metadata": {},
   "source": [
    "<img src=\"../assets/images/iris-gnb/gnb_logreg_comp_summary.png\">"
   ]
  }
 ],
 "metadata": {
  "kernelspec": {
   "display_name": "Python 3",
   "language": "python",
   "name": "python3"
  },
  "language_info": {
   "codemirror_mode": {
    "name": "ipython",
    "version": 3
   },
   "file_extension": ".py",
   "mimetype": "text/x-python",
   "name": "python",
   "nbconvert_exporter": "python",
   "pygments_lexer": "ipython3",
   "version": "3.7.9"
  }
 },
 "nbformat": 4,
 "nbformat_minor": 4
}
