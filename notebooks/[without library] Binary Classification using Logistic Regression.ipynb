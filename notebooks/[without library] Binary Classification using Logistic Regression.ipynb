{
 "cells": [
  {
   "cell_type": "markdown",
   "metadata": {},
   "source": [
    "# [without library] <font color=\"orange\">Binary Classification using Logistic Regression\n",
    "</font>"
   ]
  },
  {
   "cell_type": "markdown",
   "metadata": {},
   "source": [
    "### Based on - [2010] Generative and Discriminative Classifiers : Naive Bayes and Logistic Regression - <font color=magenta>Tom Mitchell</font>"
   ]
  },
  {
   "cell_type": "markdown",
   "metadata": {},
   "source": [
    "<img src=\"../assets/images/my-notes-logistic-regression-images/log_reg_display.png\">"
   ]
  },
  {
   "cell_type": "markdown",
   "metadata": {},
   "source": [
    "## Introduction"
   ]
  },
  {
   "cell_type": "markdown",
   "metadata": {},
   "source": [
    "This notebook implements <font color=blue>Binomial Logistic Regression</font>. It performs <font color=blue>binary classification</font> on a generated dataset consisting of two gaussian distributed clusters of points in a 2-dimensional space. The prediction accuracy for a learning dataset of 100 points is <font color=blue>90+%</font> if the clusters overlap slightly and <font color=blue>98-100%</font> if the clusters do not overlap.\n",
    "\n",
    "Resources:\n",
    "- [Generative and Discriminative Classifiers : Naive Bayes and Logistic Regression](https://www.cs.cmu.edu/~tom/mlbook/NBayesLogReg.pdf)\n",
    "\n",
    "Towards the end, I have included a <font color=blue>sidebar</font> on the <font color=magenta>Binomial Logistic Regression</font>. "
   ]
  },
  {
   "cell_type": "markdown",
   "metadata": {},
   "source": [
    "## Taxonomy and Notes"
   ]
  },
  {
   "cell_type": "markdown",
   "metadata": {},
   "source": [
    "Logistic Regression is a <font color=blue>probabilistic</font> classifier. But, it does not model the complete distribution P(X, Y). It is only interested in discriminating among classes. It does that by __computing P(Y \\| X) directly__ from the training data. Hence, it is a <font color=blue>probabilistic-discriminative</font> classifier. The classifier's <font color=magenta>sigmoid</font> function is <font color=blue>linear</font> in terms of weights and bias for the features. It is <font color=blue>parametric</font> (weights and bias are the parameters). Binomial Logistic Regression is <font color=blue>binary</font>. The model can be modified to use <font color=magenta>softmax</font> instead of sigmoid, and it becomes <font color=blue>Multiclass</font> Logistic Regression.\n",
    "\n",
    "In summary, Logistic Regression is:\n",
    "- Probabilistic\n",
    "- Discriminative\n",
    "- Binary and Multiclass\n",
    "- Linear\n",
    "- Parametric"
   ]
  },
  {
   "cell_type": "markdown",
   "metadata": {},
   "source": [
    "The density estimation of P(Y\\|X) is parametric, <font color=blue>point estimation</font>, using <font color=blue>Maximum Likelihood Estimation (MLE)</font>."
   ]
  },
  {
   "cell_type": "markdown",
   "metadata": {},
   "source": [
    "The computation of P(Y\\|X) is <font color=red>not in closed-form</font>. So, a numerical method like <font color=blue>Gradient Descent</font> is used to optimize the model's cost function."
   ]
  },
  {
   "cell_type": "markdown",
   "metadata": {},
   "source": [
    "<img src=\"../assets/images/my-notes-logistic-regression-images/log_reg_mmap.png\">"
   ]
  },
  {
   "cell_type": "markdown",
   "metadata": {},
   "source": [
    "## Imports"
   ]
  },
  {
   "cell_type": "code",
   "execution_count": 1,
   "metadata": {},
   "outputs": [],
   "source": [
    "from math import log # to calculate posterior probability\n",
    "import numpy as np #arrays for data points\n",
    "from numpy.random import rand, normal, randint #gaussian distributed data points\n",
    "from numpy import dot #vector dot product for the linear kernel\n",
    "from numpy import mean, std #mean and standard deviation for gaussian probabilities\n",
    "from scipy.stats import norm #gaussian probabilities\n",
    "import pandas as pd #input\n",
    "import seaborn as sns #plotting\n",
    "import matplotlib.pyplot as plt #plotting\n",
    "%matplotlib inline"
   ]
  },
  {
   "cell_type": "markdown",
   "metadata": {},
   "source": [
    "## X_m, Y"
   ]
  },
  {
   "cell_type": "markdown",
   "metadata": {},
   "source": [
    "### Data Configuration"
   ]
  },
  {
   "cell_type": "code",
   "execution_count": 2,
   "metadata": {},
   "outputs": [],
   "source": [
    "M = 100 #number of data points\n",
    "cols = ['X0', 'X1', 'X2', 'Y'] #column names of the dataframe\n",
    "n_features = len(cols)-1 #number of dimensions\n",
    "K = 2 #number of classes\n",
    "loc_scale = [(5, 1), (7, 1)] #mean and std of data points belonging to each class"
   ]
  },
  {
   "cell_type": "markdown",
   "metadata": {},
   "source": [
    "### Generate Data\n",
    "Gaussian clusters in 2D numpy arrays"
   ]
  },
  {
   "cell_type": "code",
   "execution_count": 3,
   "metadata": {},
   "outputs": [
    {
     "data": {
      "text/plain": [
       "((100, 3), (100,))"
      ]
     },
     "execution_count": 3,
     "metadata": {},
     "output_type": "execute_result"
    }
   ],
   "source": [
    "def generate_X_m_and_Y(M, K, n_features, loc_scale):\n",
    "    #X_m, Y\n",
    "    # we use this extra count (+1) to accomodate for X0 = 1 (the attribute for bias)\n",
    "    X_m = np.ones((K, (int)(M/2), n_features), dtype=float) #initialize data points\n",
    "    Y = np.empty((K, (int)(M/2)), dtype=int) #initialize the class labels\n",
    "\n",
    "    for k in range(K): #for each class, generate data points #create data points for each class\n",
    "        #create data points for class k using gaussian (normal) distribution\n",
    "        X_m[k][:, 1:] = normal(loc=loc_scale[k][0], scale=loc_scale[k][1], size=((int)(M/2), n_features-1))\n",
    "        #append features/columns after the bias (first) column\n",
    "        #X_m[:, 1:] = X\n",
    "        #create labels (0, 1) for class k (0, 1).\n",
    "        Y[k] = np.full(((int)(M/2)), k, dtype=int)\n",
    "    X_m = X_m.reshape(M, n_features) #collapse the class axis\n",
    "    Y = Y.reshape(M) #collapse the class axis\n",
    "    X_m.shape, Y.shape #print shapes\n",
    "    \n",
    "    return X_m, Y\n",
    "\n",
    "X_m, Y = generate_X_m_and_Y(M, K, n_features, loc_scale)\n",
    "X_m.shape, Y.shape"
   ]
  },
  {
   "cell_type": "markdown",
   "metadata": {},
   "source": [
    "### X_m, Y in DataFrame"
   ]
  },
  {
   "cell_type": "code",
   "execution_count": 4,
   "metadata": {},
   "outputs": [
    {
     "data": {
      "text/html": [
       "<div>\n",
       "<style scoped>\n",
       "    .dataframe tbody tr th:only-of-type {\n",
       "        vertical-align: middle;\n",
       "    }\n",
       "\n",
       "    .dataframe tbody tr th {\n",
       "        vertical-align: top;\n",
       "    }\n",
       "\n",
       "    .dataframe thead th {\n",
       "        text-align: right;\n",
       "    }\n",
       "</style>\n",
       "<table border=\"1\" class=\"dataframe\">\n",
       "  <thead>\n",
       "    <tr style=\"text-align: right;\">\n",
       "      <th></th>\n",
       "      <th>X0</th>\n",
       "      <th>X1</th>\n",
       "      <th>X2</th>\n",
       "      <th>Y</th>\n",
       "    </tr>\n",
       "  </thead>\n",
       "  <tbody>\n",
       "    <tr>\n",
       "      <th>89</th>\n",
       "      <td>1.0</td>\n",
       "      <td>5.582885</td>\n",
       "      <td>7.660471</td>\n",
       "      <td>1</td>\n",
       "    </tr>\n",
       "    <tr>\n",
       "      <th>43</th>\n",
       "      <td>1.0</td>\n",
       "      <td>4.320468</td>\n",
       "      <td>5.115238</td>\n",
       "      <td>0</td>\n",
       "    </tr>\n",
       "    <tr>\n",
       "      <th>5</th>\n",
       "      <td>1.0</td>\n",
       "      <td>5.034319</td>\n",
       "      <td>5.274385</td>\n",
       "      <td>0</td>\n",
       "    </tr>\n",
       "    <tr>\n",
       "      <th>91</th>\n",
       "      <td>1.0</td>\n",
       "      <td>5.784753</td>\n",
       "      <td>7.475163</td>\n",
       "      <td>1</td>\n",
       "    </tr>\n",
       "    <tr>\n",
       "      <th>26</th>\n",
       "      <td>1.0</td>\n",
       "      <td>6.418753</td>\n",
       "      <td>3.360426</td>\n",
       "      <td>0</td>\n",
       "    </tr>\n",
       "    <tr>\n",
       "      <th>44</th>\n",
       "      <td>1.0</td>\n",
       "      <td>5.006697</td>\n",
       "      <td>3.317916</td>\n",
       "      <td>0</td>\n",
       "    </tr>\n",
       "    <tr>\n",
       "      <th>93</th>\n",
       "      <td>1.0</td>\n",
       "      <td>6.344121</td>\n",
       "      <td>7.284477</td>\n",
       "      <td>1</td>\n",
       "    </tr>\n",
       "    <tr>\n",
       "      <th>15</th>\n",
       "      <td>1.0</td>\n",
       "      <td>5.568940</td>\n",
       "      <td>2.963496</td>\n",
       "      <td>0</td>\n",
       "    </tr>\n",
       "    <tr>\n",
       "      <th>85</th>\n",
       "      <td>1.0</td>\n",
       "      <td>6.859079</td>\n",
       "      <td>5.874983</td>\n",
       "      <td>1</td>\n",
       "    </tr>\n",
       "    <tr>\n",
       "      <th>19</th>\n",
       "      <td>1.0</td>\n",
       "      <td>5.417719</td>\n",
       "      <td>5.529503</td>\n",
       "      <td>0</td>\n",
       "    </tr>\n",
       "  </tbody>\n",
       "</table>\n",
       "</div>"
      ],
      "text/plain": [
       "     X0        X1        X2  Y\n",
       "89  1.0  5.582885  7.660471  1\n",
       "43  1.0  4.320468  5.115238  0\n",
       "5   1.0  5.034319  5.274385  0\n",
       "91  1.0  5.784753  7.475163  1\n",
       "26  1.0  6.418753  3.360426  0\n",
       "44  1.0  5.006697  3.317916  0\n",
       "93  1.0  6.344121  7.284477  1\n",
       "15  1.0  5.568940  2.963496  0\n",
       "85  1.0  6.859079  5.874983  1\n",
       "19  1.0  5.417719  5.529503  0"
      ]
     },
     "execution_count": 4,
     "metadata": {},
     "output_type": "execute_result"
    }
   ],
   "source": [
    "def create_df_from_array(X_m, Y, n_features, cols):\n",
    "    #create series from each column of X_m, and a series from Y\n",
    "    l_series = [] #list of series, one for each column\n",
    "    for feat in range(n_features): #create series from each column of X_m\n",
    "        l_series.append(pd.Series(X_m[:, feat])) #create series from a column of X_m\n",
    "    l_series.append(pd.Series(Y[:])) #create series from Y\n",
    "\n",
    "    frame = {col : series for col, series in zip(cols, l_series)} #map of column names to series\n",
    "    df = pd.DataFrame(frame) #create dataframe from map\n",
    "\n",
    "    return df\n",
    "\n",
    "df = create_df_from_array(X_m, Y, n_features, cols)\n",
    "df.sample(n = 10)"
   ]
  },
  {
   "cell_type": "code",
   "execution_count": 5,
   "metadata": {},
   "outputs": [
    {
     "data": {
      "text/plain": [
       "<AxesSubplot:xlabel='X1', ylabel='X2'>"
      ]
     },
     "execution_count": 5,
     "metadata": {},
     "output_type": "execute_result"
    },
    {
     "data": {
      "image/png": "[encoded data removed]",
      "text/plain": [
       "<Figure size 432x288 with 1 Axes>"
      ]
     },
     "metadata": {
      "needs_background": "light"
     },
     "output_type": "display_data"
    }
   ],
   "source": [
    "#scatter plot of data points\n",
    "#class column Y is passed in as hue\n",
    "sns.scatterplot(x=cols[1], y=cols[2], hue=cols[3], data=df)"
   ]
  },
  {
   "cell_type": "markdown",
   "metadata": {},
   "source": [
    "## Model"
   ]
  },
  {
   "cell_type": "markdown",
   "metadata": {},
   "source": [
    "### Model Configuration"
   ]
  },
  {
   "cell_type": "code",
   "execution_count": 6,
   "metadata": {},
   "outputs": [],
   "source": [
    "learning_rate = 0.001\n",
    "convergence_cost_diff = 0.0005"
   ]
  },
  {
   "cell_type": "markdown",
   "metadata": {},
   "source": [
    "### Linear Combination of Weights / Coefficients and Features"
   ]
  },
  {
   "cell_type": "markdown",
   "metadata": {},
   "source": [
    "<a href=\"https://www.codecogs.com/eqnedit.php?latex=w_{0}&plus;\\sum_{i=1}^{n}w_{i}X_{i}\" target=\"_blank\"><img src=\"https://latex.codecogs.com/gif.latex?w_{0}&plus;\\sum_{i=1}^{n}w_{i}X_{i}\" title=\"w_{0}+\\sum_{i=1}^{n}w_{i}X_{i}\" /></a>"
   ]
  },
  {
   "cell_type": "code",
   "execution_count": 7,
   "metadata": {},
   "outputs": [],
   "source": [
    "def lin_com(W, X):\n",
    "    return np.dot(W, X)"
   ]
  },
  {
   "cell_type": "markdown",
   "metadata": {},
   "source": [
    "### Probability of -ve class"
   ]
  },
  {
   "cell_type": "markdown",
   "metadata": {},
   "source": [
    "<a href=\"https://www.codecogs.com/eqnedit.php?latex=P\\left&space;(&space;Y=0|X&space;\\right&space;)=\\frac{1}{1&plus;e^{\\left&space;(w_{0}&plus;\\sum_{i=1}^{n}w_{i}X_{i}&space;\\right&space;)}}\" target=\"_blank\"><img src=\"https://latex.codecogs.com/gif.latex?P\\left&space;(&space;Y=0|X&space;\\right&space;)=\\frac{1}{1&plus;e^{\\left&space;(w_{0}&plus;\\sum_{i=1}^{n}w_{i}X_{i}&space;\\right&space;)}}\" title=\"P\\left ( Y=0|X \\right )=\\frac{1}{1+e^{\\left (w_{0}+\\sum_{i=1}^{n}w_{i}X_{i} \\right )}}\" /></a>"
   ]
  },
  {
   "cell_type": "code",
   "execution_count": 8,
   "metadata": {},
   "outputs": [],
   "source": [
    "def prob_y0_x(w, x):\n",
    "    lc = lin_com(w, x)\n",
    "    return 1/(1 + np.exp(lc))"
   ]
  },
  {
   "cell_type": "markdown",
   "metadata": {},
   "source": [
    "### Probability of +ve class"
   ]
  },
  {
   "cell_type": "markdown",
   "metadata": {},
   "source": [
    "<a href=\"https://www.codecogs.com/eqnedit.php?latex=P\\left&space;(&space;Y=1|X&space;\\right&space;)=\\frac{e^{\\left&space;(&space;w_{0}&plus;\\sum_{i=1}^{n}w_{i}X_{i}&space;\\right&space;)}}{1&plus;e^{\\left&space;(w_{0}&plus;\\sum_{i=1}^{n}w_{i}X_{i}&space;\\right&space;)}}\" target=\"_blank\"><img src=\"https://latex.codecogs.com/gif.latex?P\\left&space;(&space;Y=1|X&space;\\right&space;)=\\frac{e^{\\left&space;(&space;w_{0}&plus;\\sum_{i=1}^{n}w_{i}X_{i}&space;\\right&space;)}}{1&plus;e^{\\left&space;(w_{0}&plus;\\sum_{i=1}^{n}w_{i}X_{i}&space;\\right&space;)}}\" title=\"P\\left ( Y=1|X \\right )=\\frac{e^{\\left ( w_{0}+\\sum_{i=1}^{n}w_{i}X_{i} \\right )}}{1+e^{\\left (w_{0}+\\sum_{i=1}^{n}w_{i}X_{i} \\right )}}\" /></a>"
   ]
  },
  {
   "cell_type": "code",
   "execution_count": 9,
   "metadata": {},
   "outputs": [],
   "source": [
    "def prob_y1_x(w, x):\n",
    "    lc = lin_com(w, x)\n",
    "    return np.exp(lc)/(1 + np.exp(lc))"
   ]
  },
  {
   "cell_type": "markdown",
   "metadata": {},
   "source": [
    "### <font color='magenta'>Conditional Data Log-Likelihood</font>"
   ]
  },
  {
   "cell_type": "markdown",
   "metadata": {},
   "source": [
    "<img src=\"../assets/images/cross-entropy.png\">"
   ]
  },
  {
   "cell_type": "markdown",
   "metadata": {},
   "source": [
    "If we look at the equation below, the term 'Y ln P(Y)' is the <font color=blue>cross entropy between the true probability Y (=1) and the predicted probability</font>. Since when Y=1, we have (1-Y) = 0, and when Y=0, we have (1-Y) = 1, only one term per data point is non-zero. So, conditional data log-likelihood is basically a <font color=magenta>sum of cross entropies</font>. The lower the cross entropy, the better the prediction. Hence, this function is a cost (loss) function."
   ]
  },
  {
   "cell_type": "markdown",
   "metadata": {},
   "source": [
    "<a href=\"https://www.codecogs.com/eqnedit.php?latex=l(W)=\\sum_{l}^{}Y^{l}ln\\;&space;P\\left&space;(Y^{l}=1|X^{l},W&space;\\right&space;)&plus;\\left&space;(1-Y^{l}&space;\\right&space;)ln\\;&space;P\\left&space;(Y^{l}=0|X^{l},W&space;\\right&space;)\" target=\"_blank\"><img src=\"https://latex.codecogs.com/gif.latex?l(W)=\\sum_{l}^{}Y^{l}ln\\;&space;P\\left&space;(Y^{l}=1|X^{l},W&space;\\right&space;)&plus;\\left&space;(1-Y^{l}&space;\\right&space;)ln\\;&space;P\\left&space;(Y^{l}=0|X^{l},W&space;\\right&space;)\" title=\"l(W)=\\sum_{l}^{}Y^{l}ln\\; P\\left (Y^{l}=1|X^{l},W \\right )+\\left (1-Y^{l} \\right )ln\\; P\\left (Y^{l}=0|X^{l},W \\right )\" /></a>"
   ]
  },
  {
   "cell_type": "code",
   "execution_count": 10,
   "metadata": {},
   "outputs": [],
   "source": [
    "#conditional data log-likelihood ln(P(Y|X,W))\n",
    "def cond_data_log_likelihood(X_m, Y, w):\n",
    "    likelihood = 0.0\n",
    "    for i in range(len(X_m)):\n",
    "        likelihood += (Y[i]*log(prob_y1_x(w, X_m[i])) + (1 - Y[i])*log(prob_y0_x(w, X_m[i])) )\n",
    "    return (likelihood)"
   ]
  },
  {
   "cell_type": "markdown",
   "metadata": {},
   "source": [
    "### <font color='magenta'>Gradient along attribute 'i'</font>"
   ]
  },
  {
   "cell_type": "markdown",
   "metadata": {},
   "source": [
    "<a href=\"https://www.codecogs.com/eqnedit.php?latex=\\frac{\\partial&space;l\\left&space;(&space;W&space;\\right&space;)}{\\partial&space;w_{i}}=\\sum_{l}^{}X_{i}^{l}\\left&space;(&space;Y^{l}-\\hat{P}\\left&space;(Y^{l}=1|X^{l},W&space;\\right&space;)&space;\\right&space;)\" target=\"_blank\"><img src=\"https://latex.codecogs.com/gif.latex?\\frac{\\partial&space;l\\left&space;(&space;W&space;\\right&space;)}{\\partial&space;w_{i}}=\\sum_{l}^{}X_{i}^{l}\\left&space;(&space;Y^{l}-\\hat{P}\\left&space;(Y^{l}=1|X^{l},W&space;\\right&space;)&space;\\right&space;)\" title=\"\\frac{\\partial l\\left ( W \\right )}{\\partial w_{i}}=\\sum_{l}^{}X_{i}^{l}\\left ( Y^{l}-\\hat{P}\\left (Y^{l}=1|X^{l},W \\right ) \\right )\" /></a>"
   ]
  },
  {
   "cell_type": "code",
   "execution_count": 11,
   "metadata": {},
   "outputs": [],
   "source": [
    "#gradient along the attribute 'j'\n",
    "def gradient(X_m, Y, W, j):\n",
    "    grad = 0.0\n",
    "    #iterate over all data-points\n",
    "    for i in range(len(X_m)):\n",
    "        grad += X_m[i][j]*(Y[i] - prob_y1_x(W, X_m[i]))\n",
    "    return grad"
   ]
  },
  {
   "cell_type": "markdown",
   "metadata": {},
   "source": [
    "### <font color='magenta'>Gradients along attributes</font>"
   ]
  },
  {
   "cell_type": "code",
   "execution_count": 12,
   "metadata": {},
   "outputs": [],
   "source": [
    "#gradient along each attribute\n",
    "def gradients(X_m, Y, W):\n",
    "    #gradient along each attribute\n",
    "    grads = np.zeros(len(W), dtype=float)\n",
    "    for j in range(len(W)):\n",
    "        grads[j] = gradient(X_m, Y, W, j)\n",
    "        \n",
    "    return grads"
   ]
  },
  {
   "cell_type": "markdown",
   "metadata": {},
   "source": [
    "### Apply gradients on coefficients"
   ]
  },
  {
   "cell_type": "markdown",
   "metadata": {},
   "source": [
    "<a href=\"https://www.codecogs.com/eqnedit.php?latex=w_{i}\\leftarrow&space;w_{i}&plus;\\eta&space;\\sum_{l}^{}X_{i}^{l}\\left&space;(&space;Y^{l}-\\hat{P}\\left&space;(Y^{l}=1|X^{l},W&space;\\right&space;)&space;\\right&space;)\" target=\"_blank\"><img src=\"https://latex.codecogs.com/gif.latex?w_{i}\\leftarrow&space;w_{i}&plus;\\eta&space;\\sum_{l}^{}X_{i}^{l}\\left&space;(&space;Y^{l}-\\hat{P}\\left&space;(Y^{l}=1|X^{l},W&space;\\right&space;)&space;\\right&space;)\" title=\"w_{i}\\leftarrow w_{i}+\\eta \\sum_{l}^{}X_{i}^{l}\\left ( Y^{l}-\\hat{P}\\left (Y^{l}=1|X^{l},W \\right ) \\right )\" /></a>"
   ]
  },
  {
   "cell_type": "code",
   "execution_count": 13,
   "metadata": {},
   "outputs": [],
   "source": [
    "def apply_gradient(W, grads, learning_rate):\n",
    "    return (W + (learning_rate * grads))"
   ]
  },
  {
   "cell_type": "markdown",
   "metadata": {},
   "source": [
    "### Training Algorithm"
   ]
  },
  {
   "cell_type": "markdown",
   "metadata": {},
   "source": [
    "<img src=\"../assets/images/grad_descent.png\">"
   ]
  },
  {
   "cell_type": "code",
   "execution_count": 14,
   "metadata": {},
   "outputs": [],
   "source": [
    "def train(X_m, Y, W, learning_rate):\n",
    "    #learn\n",
    "    prev_max = cond_data_log_likelihood(X_m, Y, W)\n",
    "    grads = gradients(X_m, Y, W)\n",
    "    W = apply_gradient(W, grads, learning_rate)\n",
    "    new_max = cond_data_log_likelihood(X_m, Y, W)\n",
    "    #summary print\n",
    "    i_print = 0\n",
    "    while(abs(prev_max - new_max) > convergence_cost_diff):\n",
    "        if(i_print % 500) == 0:\n",
    "            print('Cost:', prev_max)\n",
    "        prev_max = new_max\n",
    "        grads = gradients(X_m, Y, W)\n",
    "        W = apply_gradient(W, grads, learning_rate)\n",
    "        new_max = cond_data_log_likelihood(X_m, Y, W)\n",
    "        i_print += 1\n",
    "\n",
    "    return W"
   ]
  },
  {
   "cell_type": "markdown",
   "metadata": {},
   "source": [
    "### Learn"
   ]
  },
  {
   "cell_type": "code",
   "execution_count": 15,
   "metadata": {},
   "outputs": [
    {
     "name": "stdout",
     "output_type": "stream",
     "text": [
      "Cost: -69.31471805599459\n",
      "Cost: -49.707947324850565\n",
      "Cost: -40.87854558929088\n",
      "Cost: -35.85466773616585\n",
      "Cost: -32.65388264792396\n",
      "Cost: -30.444903169173813\n",
      "Cost: -28.830852125987995\n",
      "Cost: -27.600808997259257\n",
      "Cost: -26.63289105803656\n",
      "Cost: -25.8518897927959\n",
      "Cost: -25.20890607913062\n",
      "Cost: -24.670769018536692\n",
      "Cost: -24.21417569334356\n",
      "Cost: -23.822268801602643\n",
      "Cost: -23.482546876964133\n",
      "Cost: -23.18553887871831\n"
     ]
    }
   ],
   "source": [
    "#weights\n",
    "W = np.zeros((n_features), dtype=float)\n",
    "W = train(X_m, Y, W, learning_rate)"
   ]
  },
  {
   "cell_type": "markdown",
   "metadata": {},
   "source": [
    "#### <font color=magenta>weights (coefficients)</font>"
   ]
  },
  {
   "cell_type": "code",
   "execution_count": 16,
   "metadata": {
    "scrolled": true
   },
   "outputs": [
    {
     "name": "stdout",
     "output_type": "stream",
     "text": [
      "The learnt weights (coefficients) are: [-14.97508012   1.16796148   1.35110071]\n"
     ]
    }
   ],
   "source": [
    "print('The learnt weights (coefficients) are:', W)"
   ]
  },
  {
   "cell_type": "markdown",
   "metadata": {},
   "source": [
    "## Prediction"
   ]
  },
  {
   "cell_type": "markdown",
   "metadata": {},
   "source": [
    "### Generate Data\n",
    "Gaussian clusters in 2D numpy arrays"
   ]
  },
  {
   "cell_type": "code",
   "execution_count": 17,
   "metadata": {},
   "outputs": [],
   "source": [
    "X_m, Y = generate_X_m_and_Y(M, K, n_features, loc_scale) #generate test data points"
   ]
  },
  {
   "cell_type": "markdown",
   "metadata": {},
   "source": [
    "### Predict"
   ]
  },
  {
   "cell_type": "code",
   "execution_count": 18,
   "metadata": {},
   "outputs": [],
   "source": [
    "Y_pred = [prob_y1_x(W, X) for X in X_m]\n",
    "Y_pred_class = [0 if y < 0.5 else 1 for y in Y_pred] #decision based on predicted margin"
   ]
  },
  {
   "cell_type": "markdown",
   "metadata": {},
   "source": [
    "### Predicted X_m, Y in DataFrame"
   ]
  },
  {
   "cell_type": "code",
   "execution_count": 19,
   "metadata": {},
   "outputs": [
    {
     "data": {
      "text/html": [
       "<div>\n",
       "<style scoped>\n",
       "    .dataframe tbody tr th:only-of-type {\n",
       "        vertical-align: middle;\n",
       "    }\n",
       "\n",
       "    .dataframe tbody tr th {\n",
       "        vertical-align: top;\n",
       "    }\n",
       "\n",
       "    .dataframe thead th {\n",
       "        text-align: right;\n",
       "    }\n",
       "</style>\n",
       "<table border=\"1\" class=\"dataframe\">\n",
       "  <thead>\n",
       "    <tr style=\"text-align: right;\">\n",
       "      <th></th>\n",
       "      <th>X0</th>\n",
       "      <th>X1</th>\n",
       "      <th>X2</th>\n",
       "      <th>Y</th>\n",
       "      <th>Y_pred_margin</th>\n",
       "      <th>Y_pred_class</th>\n",
       "    </tr>\n",
       "  </thead>\n",
       "  <tbody>\n",
       "    <tr>\n",
       "      <th>37</th>\n",
       "      <td>1.0</td>\n",
       "      <td>5.234051</td>\n",
       "      <td>5.226969</td>\n",
       "      <td>0</td>\n",
       "      <td>0.141882</td>\n",
       "      <td>0</td>\n",
       "    </tr>\n",
       "    <tr>\n",
       "      <th>47</th>\n",
       "      <td>1.0</td>\n",
       "      <td>4.146087</td>\n",
       "      <td>6.144546</td>\n",
       "      <td>0</td>\n",
       "      <td>0.138154</td>\n",
       "      <td>0</td>\n",
       "    </tr>\n",
       "    <tr>\n",
       "      <th>22</th>\n",
       "      <td>1.0</td>\n",
       "      <td>6.182099</td>\n",
       "      <td>3.720378</td>\n",
       "      <td>0</td>\n",
       "      <td>0.061340</td>\n",
       "      <td>0</td>\n",
       "    </tr>\n",
       "    <tr>\n",
       "      <th>27</th>\n",
       "      <td>1.0</td>\n",
       "      <td>5.694109</td>\n",
       "      <td>5.687429</td>\n",
       "      <td>0</td>\n",
       "      <td>0.345181</td>\n",
       "      <td>0</td>\n",
       "    </tr>\n",
       "    <tr>\n",
       "      <th>43</th>\n",
       "      <td>1.0</td>\n",
       "      <td>5.386995</td>\n",
       "      <td>2.323051</td>\n",
       "      <td>0</td>\n",
       "      <td>0.003893</td>\n",
       "      <td>0</td>\n",
       "    </tr>\n",
       "    <tr>\n",
       "      <th>38</th>\n",
       "      <td>1.0</td>\n",
       "      <td>5.202220</td>\n",
       "      <td>5.670654</td>\n",
       "      <td>0</td>\n",
       "      <td>0.224878</td>\n",
       "      <td>0</td>\n",
       "    </tr>\n",
       "    <tr>\n",
       "      <th>99</th>\n",
       "      <td>1.0</td>\n",
       "      <td>7.099939</td>\n",
       "      <td>7.113818</td>\n",
       "      <td>1</td>\n",
       "      <td>0.949255</td>\n",
       "      <td>1</td>\n",
       "    </tr>\n",
       "    <tr>\n",
       "      <th>79</th>\n",
       "      <td>1.0</td>\n",
       "      <td>7.165353</td>\n",
       "      <td>6.450322</td>\n",
       "      <td>1</td>\n",
       "      <td>0.891757</td>\n",
       "      <td>1</td>\n",
       "    </tr>\n",
       "    <tr>\n",
       "      <th>29</th>\n",
       "      <td>1.0</td>\n",
       "      <td>4.034987</td>\n",
       "      <td>5.389770</td>\n",
       "      <td>0</td>\n",
       "      <td>0.048326</td>\n",
       "      <td>0</td>\n",
       "    </tr>\n",
       "    <tr>\n",
       "      <th>66</th>\n",
       "      <td>1.0</td>\n",
       "      <td>6.995258</td>\n",
       "      <td>6.390637</td>\n",
       "      <td>1</td>\n",
       "      <td>0.861703</td>\n",
       "      <td>1</td>\n",
       "    </tr>\n",
       "  </tbody>\n",
       "</table>\n",
       "</div>"
      ],
      "text/plain": [
       "     X0        X1        X2  Y  Y_pred_margin  Y_pred_class\n",
       "37  1.0  5.234051  5.226969  0       0.141882             0\n",
       "47  1.0  4.146087  6.144546  0       0.138154             0\n",
       "22  1.0  6.182099  3.720378  0       0.061340             0\n",
       "27  1.0  5.694109  5.687429  0       0.345181             0\n",
       "43  1.0  5.386995  2.323051  0       0.003893             0\n",
       "38  1.0  5.202220  5.670654  0       0.224878             0\n",
       "99  1.0  7.099939  7.113818  1       0.949255             1\n",
       "79  1.0  7.165353  6.450322  1       0.891757             1\n",
       "29  1.0  4.034987  5.389770  0       0.048326             0\n",
       "66  1.0  6.995258  6.390637  1       0.861703             1"
      ]
     },
     "execution_count": 19,
     "metadata": {},
     "output_type": "execute_result"
    }
   ],
   "source": [
    "df = create_df_from_array(X_m, Y, n_features, cols) #create test dataframe\n",
    "df['Y_pred_margin'] = Y_pred #append the prediction margin column\n",
    "df['Y_pred_class'] = Y_pred_class #append the class\n",
    "df.sample(n = 10)"
   ]
  },
  {
   "cell_type": "code",
   "execution_count": 20,
   "metadata": {},
   "outputs": [
    {
     "data": {
      "text/plain": [
       "<AxesSubplot:xlabel='X1', ylabel='X2'>"
      ]
     },
     "execution_count": 20,
     "metadata": {},
     "output_type": "execute_result"
    },
    {
     "data": {
      "image/png": "[encoded data removed]",
      "text/plain": [
       "<Figure size 432x288 with 1 Axes>"
      ]
     },
     "metadata": {
      "needs_background": "light"
     },
     "output_type": "display_data"
    }
   ],
   "source": [
    "#scatter plot of data points\n",
    "#class column Y is passed in as hue\n",
    "sns.scatterplot(x=cols[1], y=cols[2], hue='Y_pred_class', data=df)"
   ]
  },
  {
   "cell_type": "code",
   "execution_count": 21,
   "metadata": {},
   "outputs": [
    {
     "data": {
      "image/png": "[encoded data removed]",
      "text/plain": [
       "<Figure size 432x288 with 1 Axes>"
      ]
     },
     "metadata": {
      "needs_background": "light"
     },
     "output_type": "display_data"
    }
   ],
   "source": [
    "Y_pred_np = np.array(Y_pred)\n",
    "fig = plt.figure()\n",
    "ax = plt.axes(projection='3d')\n",
    "ax.scatter3D(X_m[:, 1], X_m[:, 2], Y_pred, c = (Y_pred_np>0.5))\n",
    "plt.show()"
   ]
  },
  {
   "cell_type": "markdown",
   "metadata": {},
   "source": [
    "### <font color=magenta>Prediction Accuracy</font>"
   ]
  },
  {
   "cell_type": "code",
   "execution_count": 22,
   "metadata": {},
   "outputs": [
    {
     "name": "stdout",
     "output_type": "stream",
     "text": [
      "Accuracy: 88.0 %\n"
     ]
    }
   ],
   "source": [
    "Y_pred_corr = (Y==Y_pred_class)\n",
    "num_corr = len(Y_pred_corr[Y_pred_corr == True])\n",
    "print('Accuracy:', (num_corr/M)*100, '%')"
   ]
  },
  {
   "cell_type": "markdown",
   "metadata": {},
   "source": [
    "## Sidebar - <font color=blue>Binomial Logistic Regression</font>"
   ]
  },
  {
   "cell_type": "markdown",
   "metadata": {},
   "source": [
    "### P(Y\\|X) <font color=magenta>directly</font>?"
   ]
  },
  {
   "cell_type": "markdown",
   "metadata": {},
   "source": [
    "Actually, the term likelihood can be used for P(X\\|Y) as well as P(Y\\|X). It can be used for <font color=blue>any distribution</font>. In Naive Bayes, we estimate params (mu/sigma, or frequencies) for distribution P(X\\|Y). But, in Logistic Regression, we estimate W (the weight vector W in W.X) to maximize likelihood of the distribution P(Y\\|X) -  <font color=blue>this is what we call as estimating P(Y\\|X) directly</font>.\n"
   ]
  },
  {
   "cell_type": "markdown",
   "metadata": {},
   "source": [
    "<img src=\"../assets/images/my-notes-logistic-regression-images/log_reg_mmap_note_likelihood.png\">"
   ]
  },
  {
   "cell_type": "markdown",
   "metadata": {},
   "source": [
    "### <font color=magenta>Linear</font> Boundary"
   ]
  },
  {
   "cell_type": "markdown",
   "metadata": {},
   "source": [
    "<img src=\"../assets/images/my-notes-logistic-regression-images/log_reg_mmap_note_linear.png\">"
   ]
  },
  {
   "cell_type": "markdown",
   "metadata": {},
   "source": [
    "### Why Logistic Regression?"
   ]
  },
  {
   "cell_type": "markdown",
   "metadata": {},
   "source": [
    "<img src=\"../assets/images/my-notes-logistic-regression-images/log_reg_why.png\">"
   ]
  },
  {
   "cell_type": "markdown",
   "metadata": {},
   "source": [
    "### Model and Cost Function"
   ]
  },
  {
   "cell_type": "markdown",
   "metadata": {},
   "source": [
    "<img src=\"../assets/images/my-notes-logistic-regression-images/0001.jpg\">"
   ]
  },
  {
   "cell_type": "markdown",
   "metadata": {},
   "source": [
    "### Derivatives for Gradient Descent"
   ]
  },
  {
   "cell_type": "markdown",
   "metadata": {},
   "source": [
    "<img src=\"../assets/images/my-notes-logistic-regression-images/0002.jpg\">"
   ]
  },
  {
   "cell_type": "markdown",
   "metadata": {},
   "source": [
    "### Regularized Logistic Regression"
   ]
  },
  {
   "cell_type": "markdown",
   "metadata": {},
   "source": [
    "<img src=\"../assets/images/my-notes-logistic-regression-images/0003.jpg\">"
   ]
  }
 ],
 "metadata": {
  "kernelspec": {
   "display_name": "Python 3",
   "language": "python",
   "name": "python3"
  },
  "language_info": {
   "codemirror_mode": {
    "name": "ipython",
    "version": 3
   },
   "file_extension": ".py",
   "mimetype": "text/x-python",
   "name": "python",
   "nbconvert_exporter": "python",
   "pygments_lexer": "ipython3",
   "version": "3.8.3"
  }
 },
 "nbformat": 4,
 "nbformat_minor": 4
}
